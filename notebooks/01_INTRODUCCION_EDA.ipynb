{
 "cells": [
  {
   "cell_type": "markdown",
   "metadata": {},
   "source": [
    "# <font color = 'lightblue'> TRABAJO EDA APRENDIZAJE AUTOMÁTICO\n",
    "\n",
    "\n",
    "**Guzmán Muñoz Revuelta**\n",
    "\n",
    "**Fernando Caruana del Pino**"
   ]
  },
  {
   "cell_type": "markdown",
   "metadata": {},
   "source": [
    "**Importamos las librerías necesarias**"
   ]
  },
  {
   "cell_type": "code",
   "execution_count": 1,
   "metadata": {},
   "outputs": [],
   "source": [
    "import pandas as pd\n",
    "import numpy as np\n",
    "import seaborn as sns\n",
    "from matplotlib import pyplot as plt\n",
    "import plotly.express as px\n",
    "\n",
    "pd.set_option('display.max_columns', 500) #esto es para que me muestre todas las columnas\n",
    "pd.set_option('display.max_rows', 5000) #esto es para que me muestre todas las filas"
   ]
  },
  {
   "cell_type": "code",
   "execution_count": 2,
   "metadata": {},
   "outputs": [
    {
     "data": {
      "text/html": [
       "<div>\n",
       "<style scoped>\n",
       "    .dataframe tbody tr th:only-of-type {\n",
       "        vertical-align: middle;\n",
       "    }\n",
       "\n",
       "    .dataframe tbody tr th {\n",
       "        vertical-align: top;\n",
       "    }\n",
       "\n",
       "    .dataframe thead th {\n",
       "        text-align: right;\n",
       "    }\n",
       "</style>\n",
       "<table border=\"1\" class=\"dataframe\">\n",
       "  <thead>\n",
       "    <tr style=\"text-align: right;\">\n",
       "      <th></th>\n",
       "      <th>fraud_bool</th>\n",
       "      <th>income</th>\n",
       "      <th>name_email_similarity</th>\n",
       "      <th>prev_address_months_count</th>\n",
       "      <th>current_address_months_count</th>\n",
       "      <th>customer_age</th>\n",
       "      <th>days_since_request</th>\n",
       "      <th>intended_balcon_amount</th>\n",
       "      <th>payment_type</th>\n",
       "      <th>zip_count_4w</th>\n",
       "      <th>velocity_6h</th>\n",
       "      <th>velocity_24h</th>\n",
       "      <th>velocity_4w</th>\n",
       "      <th>bank_branch_count_8w</th>\n",
       "      <th>date_of_birth_distinct_emails_4w</th>\n",
       "      <th>employment_status</th>\n",
       "      <th>credit_risk_score</th>\n",
       "      <th>email_is_free</th>\n",
       "      <th>housing_status</th>\n",
       "      <th>phone_home_valid</th>\n",
       "      <th>phone_mobile_valid</th>\n",
       "      <th>bank_months_count</th>\n",
       "      <th>has_other_cards</th>\n",
       "      <th>proposed_credit_limit</th>\n",
       "      <th>foreign_request</th>\n",
       "      <th>source</th>\n",
       "      <th>session_length_in_minutes</th>\n",
       "      <th>device_os</th>\n",
       "      <th>keep_alive_session</th>\n",
       "      <th>device_distinct_emails_8w</th>\n",
       "      <th>device_fraud_count</th>\n",
       "      <th>month</th>\n",
       "    </tr>\n",
       "  </thead>\n",
       "  <tbody>\n",
       "    <tr>\n",
       "      <th>0</th>\n",
       "      <td>1</td>\n",
       "      <td>0.9</td>\n",
       "      <td>0.166828</td>\n",
       "      <td>-1</td>\n",
       "      <td>88</td>\n",
       "      <td>50</td>\n",
       "      <td>0.020925</td>\n",
       "      <td>-1.331345</td>\n",
       "      <td>AA</td>\n",
       "      <td>769</td>\n",
       "      <td>10650.765523</td>\n",
       "      <td>3134.319630</td>\n",
       "      <td>3863.647740</td>\n",
       "      <td>1</td>\n",
       "      <td>6</td>\n",
       "      <td>CA</td>\n",
       "      <td>185</td>\n",
       "      <td>0</td>\n",
       "      <td>BA</td>\n",
       "      <td>1</td>\n",
       "      <td>0</td>\n",
       "      <td>24</td>\n",
       "      <td>0</td>\n",
       "      <td>500.0</td>\n",
       "      <td>0</td>\n",
       "      <td>INTERNET</td>\n",
       "      <td>3.888115</td>\n",
       "      <td>windows</td>\n",
       "      <td>0</td>\n",
       "      <td>1</td>\n",
       "      <td>0</td>\n",
       "      <td>7</td>\n",
       "    </tr>\n",
       "    <tr>\n",
       "      <th>1</th>\n",
       "      <td>1</td>\n",
       "      <td>0.9</td>\n",
       "      <td>0.296286</td>\n",
       "      <td>-1</td>\n",
       "      <td>144</td>\n",
       "      <td>50</td>\n",
       "      <td>0.005418</td>\n",
       "      <td>-0.816224</td>\n",
       "      <td>AB</td>\n",
       "      <td>366</td>\n",
       "      <td>534.047319</td>\n",
       "      <td>2670.918292</td>\n",
       "      <td>3124.298166</td>\n",
       "      <td>718</td>\n",
       "      <td>3</td>\n",
       "      <td>CA</td>\n",
       "      <td>259</td>\n",
       "      <td>1</td>\n",
       "      <td>BA</td>\n",
       "      <td>0</td>\n",
       "      <td>0</td>\n",
       "      <td>15</td>\n",
       "      <td>0</td>\n",
       "      <td>1500.0</td>\n",
       "      <td>0</td>\n",
       "      <td>INTERNET</td>\n",
       "      <td>31.798819</td>\n",
       "      <td>windows</td>\n",
       "      <td>0</td>\n",
       "      <td>1</td>\n",
       "      <td>0</td>\n",
       "      <td>7</td>\n",
       "    </tr>\n",
       "    <tr>\n",
       "      <th>2</th>\n",
       "      <td>1</td>\n",
       "      <td>0.9</td>\n",
       "      <td>0.044985</td>\n",
       "      <td>-1</td>\n",
       "      <td>132</td>\n",
       "      <td>40</td>\n",
       "      <td>3.108549</td>\n",
       "      <td>-0.755728</td>\n",
       "      <td>AC</td>\n",
       "      <td>870</td>\n",
       "      <td>4048.534263</td>\n",
       "      <td>2893.621498</td>\n",
       "      <td>3159.590679</td>\n",
       "      <td>1</td>\n",
       "      <td>14</td>\n",
       "      <td>CB</td>\n",
       "      <td>177</td>\n",
       "      <td>1</td>\n",
       "      <td>BA</td>\n",
       "      <td>0</td>\n",
       "      <td>1</td>\n",
       "      <td>-1</td>\n",
       "      <td>0</td>\n",
       "      <td>200.0</td>\n",
       "      <td>0</td>\n",
       "      <td>INTERNET</td>\n",
       "      <td>4.728705</td>\n",
       "      <td>other</td>\n",
       "      <td>0</td>\n",
       "      <td>1</td>\n",
       "      <td>0</td>\n",
       "      <td>7</td>\n",
       "    </tr>\n",
       "    <tr>\n",
       "      <th>3</th>\n",
       "      <td>1</td>\n",
       "      <td>0.9</td>\n",
       "      <td>0.159511</td>\n",
       "      <td>-1</td>\n",
       "      <td>22</td>\n",
       "      <td>50</td>\n",
       "      <td>0.019079</td>\n",
       "      <td>-1.205124</td>\n",
       "      <td>AB</td>\n",
       "      <td>810</td>\n",
       "      <td>3457.064063</td>\n",
       "      <td>4054.908412</td>\n",
       "      <td>3022.261812</td>\n",
       "      <td>1921</td>\n",
       "      <td>6</td>\n",
       "      <td>CA</td>\n",
       "      <td>110</td>\n",
       "      <td>1</td>\n",
       "      <td>BA</td>\n",
       "      <td>0</td>\n",
       "      <td>1</td>\n",
       "      <td>31</td>\n",
       "      <td>1</td>\n",
       "      <td>200.0</td>\n",
       "      <td>0</td>\n",
       "      <td>INTERNET</td>\n",
       "      <td>2.047904</td>\n",
       "      <td>linux</td>\n",
       "      <td>0</td>\n",
       "      <td>1</td>\n",
       "      <td>0</td>\n",
       "      <td>7</td>\n",
       "    </tr>\n",
       "    <tr>\n",
       "      <th>4</th>\n",
       "      <td>1</td>\n",
       "      <td>0.9</td>\n",
       "      <td>0.596414</td>\n",
       "      <td>-1</td>\n",
       "      <td>218</td>\n",
       "      <td>50</td>\n",
       "      <td>0.004441</td>\n",
       "      <td>-0.773276</td>\n",
       "      <td>AB</td>\n",
       "      <td>890</td>\n",
       "      <td>5020.341679</td>\n",
       "      <td>2728.237159</td>\n",
       "      <td>3087.670952</td>\n",
       "      <td>1990</td>\n",
       "      <td>2</td>\n",
       "      <td>CA</td>\n",
       "      <td>295</td>\n",
       "      <td>1</td>\n",
       "      <td>BA</td>\n",
       "      <td>1</td>\n",
       "      <td>0</td>\n",
       "      <td>31</td>\n",
       "      <td>0</td>\n",
       "      <td>1500.0</td>\n",
       "      <td>0</td>\n",
       "      <td>INTERNET</td>\n",
       "      <td>3.775225</td>\n",
       "      <td>macintosh</td>\n",
       "      <td>1</td>\n",
       "      <td>1</td>\n",
       "      <td>0</td>\n",
       "      <td>7</td>\n",
       "    </tr>\n",
       "  </tbody>\n",
       "</table>\n",
       "</div>"
      ],
      "text/plain": [
       "   fraud_bool  income  name_email_similarity  prev_address_months_count  \\\n",
       "0           1     0.9               0.166828                         -1   \n",
       "1           1     0.9               0.296286                         -1   \n",
       "2           1     0.9               0.044985                         -1   \n",
       "3           1     0.9               0.159511                         -1   \n",
       "4           1     0.9               0.596414                         -1   \n",
       "\n",
       "   current_address_months_count  customer_age  days_since_request  \\\n",
       "0                            88            50            0.020925   \n",
       "1                           144            50            0.005418   \n",
       "2                           132            40            3.108549   \n",
       "3                            22            50            0.019079   \n",
       "4                           218            50            0.004441   \n",
       "\n",
       "   intended_balcon_amount payment_type  zip_count_4w   velocity_6h  \\\n",
       "0               -1.331345           AA           769  10650.765523   \n",
       "1               -0.816224           AB           366    534.047319   \n",
       "2               -0.755728           AC           870   4048.534263   \n",
       "3               -1.205124           AB           810   3457.064063   \n",
       "4               -0.773276           AB           890   5020.341679   \n",
       "\n",
       "   velocity_24h  velocity_4w  bank_branch_count_8w  \\\n",
       "0   3134.319630  3863.647740                     1   \n",
       "1   2670.918292  3124.298166                   718   \n",
       "2   2893.621498  3159.590679                     1   \n",
       "3   4054.908412  3022.261812                  1921   \n",
       "4   2728.237159  3087.670952                  1990   \n",
       "\n",
       "   date_of_birth_distinct_emails_4w employment_status  credit_risk_score  \\\n",
       "0                                 6                CA                185   \n",
       "1                                 3                CA                259   \n",
       "2                                14                CB                177   \n",
       "3                                 6                CA                110   \n",
       "4                                 2                CA                295   \n",
       "\n",
       "   email_is_free housing_status  phone_home_valid  phone_mobile_valid  \\\n",
       "0              0             BA                 1                   0   \n",
       "1              1             BA                 0                   0   \n",
       "2              1             BA                 0                   1   \n",
       "3              1             BA                 0                   1   \n",
       "4              1             BA                 1                   0   \n",
       "\n",
       "   bank_months_count  has_other_cards  proposed_credit_limit  foreign_request  \\\n",
       "0                 24                0                  500.0                0   \n",
       "1                 15                0                 1500.0                0   \n",
       "2                 -1                0                  200.0                0   \n",
       "3                 31                1                  200.0                0   \n",
       "4                 31                0                 1500.0                0   \n",
       "\n",
       "     source  session_length_in_minutes  device_os  keep_alive_session  \\\n",
       "0  INTERNET                   3.888115    windows                   0   \n",
       "1  INTERNET                  31.798819    windows                   0   \n",
       "2  INTERNET                   4.728705      other                   0   \n",
       "3  INTERNET                   2.047904      linux                   0   \n",
       "4  INTERNET                   3.775225  macintosh                   1   \n",
       "\n",
       "   device_distinct_emails_8w  device_fraud_count  month  \n",
       "0                          1                   0      7  \n",
       "1                          1                   0      7  \n",
       "2                          1                   0      7  \n",
       "3                          1                   0      7  \n",
       "4                          1                   0      7  "
      ]
     },
     "execution_count": 2,
     "metadata": {},
     "output_type": "execute_result"
    }
   ],
   "source": [
    "bf = pd.read_csv('../data/Base.csv', sep=',', decimal='.')\n",
    "bf.head() #observamos las 5 primeras filas del dataset"
   ]
  },
  {
   "cell_type": "markdown",
   "metadata": {},
   "source": [
    "# **OBJETIVOS DEL TRABAJO**"
   ]
  },
  {
   "cell_type": "markdown",
   "metadata": {},
   "source": [
    "El objetivo de este trabajo es abordar el desafío de la detección de fraudes bancarios utilizando un conjunto de datos de detección de fraudes bancarios. La variable principal en este estudio es \"bf\" (\"bank fraud\") que representa la presencia o ausencia de fraude en las transacciones bancarias. La detección de fraudes bancarios es crucial para las instituciones financieras y los clientes con el fin de prevenir pérdidas económicas y mantener la confianza en el sistema bancario.\n",
    "\n",
    "El trabajo se enfoca en los siguientes puntos clave:\n",
    "\n",
    "1. Conjunto de Datos: Se utiliza un conjunto de datos que contiene información detallada sobre transacciones bancarias, incluyendo características relevantes como el monto de la transacción, la hora, el tipo de tarjeta utilizada, entre otros.\n",
    "\n",
    "2. Análisis Exploratorio de Datos (EDA): Se realiza un EDA para comprender la distribución de la variable \"bf\" y explorar las relaciones entre las diferentes características y la variable objetivo. Esto ayuda a identificar posibles patrones de fraude.\n",
    "\n",
    "3. Preprocesamiento de Datos: Se lleva a cabo un preprocesamiento de datos que puede incluir la normalización de características, la eliminación de valores atípicos y la codificación de variables categóricas.\n",
    "\n",
    "4. Selección de Modelo: Se evalúan varios modelos de aprendizaje automático, como Regresión Logística, Random Forest, Support Vector Machines, o Redes Neuronales, para determinar cuál es el más adecuado para la detección de fraudes bancarios.\n",
    "\n",
    "5. Entrenamiento y Evaluación del Modelo: El modelo seleccionado se entrena utilizando una parte del conjunto de datos y se evalúa utilizando métricas de rendimiento, como la precisión, la sensibilidad y la especificidad.\n",
    "\n",
    "6. Optimización del Modelo: Se pueden realizar ajustes en el modelo y los hiperparámetros para mejorar su rendimiento.\n",
    "\n",
    "7. Implementación en Producción: Una vez que se obtiene un modelo de detección de fraudes eficaz, se puede implementar en la operación bancaria en tiempo real para identificar transacciones sospechosas.\n",
    "\n",
    "Este trabajo tiene como objetivo proporcionar una solución efectiva para la detección de fraudes bancarios utilizando la variable \"bf\" como variable principal. La detección de fraudes es esencial en el entorno financiero para prevenir pérdidas y proteger a los clientes de posibles actividades fraudulentas."
   ]
  },
  {
   "cell_type": "markdown",
   "metadata": {},
   "source": [
    "# Variables\n",
    "\n",
    "• income (numeric): Annual income of the applicant (in decile form). Ranges between [0.1, 0.9].\n",
    "\n",
    "• name_email_similarity (numeric): Metric of similarity between email and applicant’s name. Higher values represent higher similarity. Ranges between [0, 1].\n",
    "\n",
    "• prev_address_months_count (numeric): Number of months in previous registered address of the applicant, i.e. the applicant’s previous residence, if applicable. Ranges between [−1, 380] months (-1 is a missing value).\n",
    "\n",
    "• current_address_months_count (numeric): Months in currently registered address of the applicant. Ranges between [−1, 429] months (-1 is a missing value).\n",
    "\n",
    "• customer_age (numeric): Applicant’s age in years, rounded to the decade. Ranges between [10, 90] years.\n",
    "\n",
    "• days_since_request (numeric): Number of days passed since application was done. Ranges between [0, 79] days.\n",
    "\n",
    "• intended_balcon_amount (numeric): Initial transferred amount for application. Ranges between [−16, 114] (negatives are missing values).\n",
    "\n",
    "• payment_type (categorical): Credit payment plan type. 5 possible (annonymized) values.\n",
    "\n",
    "• zip_count_4w (numeric): Number of applications within same zip code in last 4 weeks. Ranges between [1, 6830].\n",
    "\n",
    "• velocity_6h (numeric): Velocity of total applications made in last 6 hours i.e., average number of applications per hour in the last 6 hours. Ranges between [−175, 16818].\n",
    "\n",
    "• velocity_24h (numeric): Velocity of total applications made in last 24 hours i.e., average number of applications per hour in the last 24 hours. Ranges between [1297, 9586]\n",
    "\n",
    "• velocity_4w (numeric): Velocity of total applications made in last 4 weeks, i.e., average number of applications per hour in the last 4 weeks. Ranges between [2825, 7020].\n",
    "\n",
    "• bank_branch_count_8w (numeric): Number of total applications in the selected bank branch in last 8 weeks. Ranges between [0, 2404].\n",
    "\n",
    "• date_of_birth_distinct_emails_4w (numeric): Number of emails for applicants with same date of birth in last 4 weeks. Ranges between [0, 39].\n",
    "\n",
    "• employment_status (categorical): Employment status of the applicant. 7 possible (annonymized) values. \n",
    "\n",
    "• credit_risk_score (numeric): Internal score of application risk. Ranges between [−191, 389].\n",
    "\n",
    "• email_is_free (binary): Domain of application email (either free or paid).\n",
    "\n",
    "• housing_status (categorical): Current residential status for applicant. 7 possible (annonymized) values.\n",
    "\n",
    "• phone_home_valid (binary): Validity of provided home phone.\n",
    "\n",
    "• phone_mobile_valid (binary): Validity of provided mobile phone.\n",
    "\n",
    "• bank_months_count (numeric): How old is previous account (if held) in months. Ranges between [−1, 32] months (-1 is a missing value).\n",
    "\n",
    "• has_other_cards (binary): If applicant has other cards from the same banking company.\n",
    "\n",
    "• proposed_credit_limit (numeric): Applicant’s proposed credit limit. Ranges between [200, 2000].\n",
    "\n",
    "• foreign_request (binary): If origin country of request is different from bank’s country.\n",
    "\n",
    "• source (categorical): Online source of application. Either browser (INTERNET) or app (TELEAPP).\n",
    "\n",
    "• session_length_in_minutes (numeric): Length of user session in banking website in minutes. Ranges between [−1, 107] minutes (-1 is a missing value).\n",
    "\n",
    "• device_os (categorical): Operative system of device that made request. Possible values are: Windows, macOS, Linux, X11, or other.\n",
    "\n",
    "• keep_alive_session (binary): User option on session logout.\n",
    "\n",
    "• device_distinct_emails (numeric): Number of distinct emails in banking website from the used device in last 8 weeks. Ranges between [−1, 2] emails (-1 is a missing value).\n",
    "\n",
    "• device_fraud_count (numeric): Number of fraudulent applications with used device. Ranges between [0, 1].\n",
    "\n",
    "• month (numeric): Month where the application was made. Ranges between [0, 7].\n",
    "\n",
    "• fraud_bool (binary): If the application is fraudulent or not."
   ]
  },
  {
   "cell_type": "markdown",
   "metadata": {},
   "source": [
    "# TRATAMIENTO DE LAS VARIABLES"
   ]
  },
  {
   "cell_type": "markdown",
   "metadata": {},
   "source": [
    "Las variables originales no están en su tipo de variable correspondiente (algunas) por lo que tenemos que cambiarlas:"
   ]
  },
  {
   "cell_type": "code",
   "execution_count": 3,
   "metadata": {},
   "outputs": [
    {
     "data": {
      "text/plain": [
       "fraud_bool                            int64\n",
       "income                              float64\n",
       "name_email_similarity               float64\n",
       "prev_address_months_count             int64\n",
       "current_address_months_count          int64\n",
       "customer_age                          int64\n",
       "days_since_request                  float64\n",
       "intended_balcon_amount              float64\n",
       "payment_type                         object\n",
       "zip_count_4w                          int64\n",
       "velocity_6h                         float64\n",
       "velocity_24h                        float64\n",
       "velocity_4w                         float64\n",
       "bank_branch_count_8w                  int64\n",
       "date_of_birth_distinct_emails_4w      int64\n",
       "employment_status                    object\n",
       "credit_risk_score                     int64\n",
       "email_is_free                         int64\n",
       "housing_status                       object\n",
       "phone_home_valid                      int64\n",
       "phone_mobile_valid                    int64\n",
       "bank_months_count                     int64\n",
       "has_other_cards                       int64\n",
       "proposed_credit_limit               float64\n",
       "foreign_request                       int64\n",
       "source                               object\n",
       "session_length_in_minutes           float64\n",
       "device_os                            object\n",
       "keep_alive_session                    int64\n",
       "device_distinct_emails_8w             int64\n",
       "device_fraud_count                    int64\n",
       "month                                 int64\n",
       "dtype: object"
      ]
     },
     "execution_count": 3,
     "metadata": {},
     "output_type": "execute_result"
    }
   ],
   "source": [
    "bf.dtypes"
   ]
  },
  {
   "cell_type": "code",
   "execution_count": 4,
   "metadata": {},
   "outputs": [],
   "source": [
    "# creamos un diccionario con las variables, cambiando el tipo de dato a las que nos interesan.\n",
    "new_types = {'fraud_bool': 'category', 'income': 'float', 'name_email_similarity': 'float', 'prev_address_months_count': 'int64', 'current_address_months_count': 'int64', 'customer_age': 'int64', 'days_since_request': 'float64', 'intended_balcon_amount': 'float', 'payment_type': 'category', 'zip_count_4w': 'int64', 'velocity_6h': 'float', 'velocity_24h': 'float', 'velocity_4w': 'float', 'bank_branch_count_8w': 'int64', 'date_of_birth_distinct_emails_4w': 'int64', 'employment_status': 'category', 'credit_risk_score': 'int64', 'email_is_free': 'category', 'housing_status': 'category', 'phone_home_valid': 'category', 'phone_mobile_valid': 'category', 'bank_months_count': 'int64', 'has_other_cards': 'category', 'proposed_credit_limit': 'int64', 'foreign_request': 'category', 'source': 'category', 'session_length_in_minutes': 'float', 'device_os': 'category', 'keep_alive_session': 'category', 'device_distinct_emails_8w': 'int64', 'device_fraud_count': 'int64', 'month': 'int64'}\n",
    "\n",
    "# cambiamos esas variables en nuestro dataset\n",
    "new_bf = bf.astype(new_types)\n"
   ]
  },
  {
   "cell_type": "code",
   "execution_count": 5,
   "metadata": {},
   "outputs": [
    {
     "data": {
      "text/plain": [
       "fraud_bool                          category\n",
       "income                               float64\n",
       "name_email_similarity                float64\n",
       "prev_address_months_count              int64\n",
       "current_address_months_count           int64\n",
       "customer_age                           int64\n",
       "days_since_request                   float64\n",
       "intended_balcon_amount               float64\n",
       "payment_type                        category\n",
       "zip_count_4w                           int64\n",
       "velocity_6h                          float64\n",
       "velocity_24h                         float64\n",
       "velocity_4w                          float64\n",
       "bank_branch_count_8w                   int64\n",
       "date_of_birth_distinct_emails_4w       int64\n",
       "employment_status                   category\n",
       "credit_risk_score                      int64\n",
       "email_is_free                       category\n",
       "housing_status                      category\n",
       "phone_home_valid                    category\n",
       "phone_mobile_valid                  category\n",
       "bank_months_count                      int64\n",
       "has_other_cards                     category\n",
       "proposed_credit_limit                  int64\n",
       "foreign_request                     category\n",
       "source                              category\n",
       "session_length_in_minutes            float64\n",
       "device_os                           category\n",
       "keep_alive_session                  category\n",
       "device_distinct_emails_8w              int64\n",
       "device_fraud_count                     int64\n",
       "month                                  int64\n",
       "dtype: object"
      ]
     },
     "execution_count": 5,
     "metadata": {},
     "output_type": "execute_result"
    }
   ],
   "source": [
    "new_bf.dtypes\n",
    "#ahora las tenemos como queríamos en un principio."
   ]
  },
  {
   "cell_type": "code",
   "execution_count": 6,
   "metadata": {},
   "outputs": [
    {
     "data": {
      "text/html": [
       "<div>\n",
       "<style scoped>\n",
       "    .dataframe tbody tr th:only-of-type {\n",
       "        vertical-align: middle;\n",
       "    }\n",
       "\n",
       "    .dataframe tbody tr th {\n",
       "        vertical-align: top;\n",
       "    }\n",
       "\n",
       "    .dataframe thead th {\n",
       "        text-align: right;\n",
       "    }\n",
       "</style>\n",
       "<table border=\"1\" class=\"dataframe\">\n",
       "  <thead>\n",
       "    <tr style=\"text-align: right;\">\n",
       "      <th></th>\n",
       "      <th>fraud_bool</th>\n",
       "      <th>income</th>\n",
       "      <th>name_email_similarity</th>\n",
       "      <th>prev_address_months_count</th>\n",
       "      <th>current_address_months_count</th>\n",
       "      <th>customer_age</th>\n",
       "      <th>days_since_request</th>\n",
       "      <th>intended_balcon_amount</th>\n",
       "      <th>payment_type</th>\n",
       "      <th>zip_count_4w</th>\n",
       "      <th>velocity_6h</th>\n",
       "      <th>velocity_24h</th>\n",
       "      <th>velocity_4w</th>\n",
       "      <th>bank_branch_count_8w</th>\n",
       "      <th>date_of_birth_distinct_emails_4w</th>\n",
       "      <th>employment_status</th>\n",
       "      <th>credit_risk_score</th>\n",
       "      <th>email_is_free</th>\n",
       "      <th>housing_status</th>\n",
       "      <th>phone_home_valid</th>\n",
       "      <th>phone_mobile_valid</th>\n",
       "      <th>bank_months_count</th>\n",
       "      <th>has_other_cards</th>\n",
       "      <th>proposed_credit_limit</th>\n",
       "      <th>foreign_request</th>\n",
       "      <th>source</th>\n",
       "      <th>session_length_in_minutes</th>\n",
       "      <th>device_os</th>\n",
       "      <th>keep_alive_session</th>\n",
       "      <th>device_distinct_emails_8w</th>\n",
       "      <th>device_fraud_count</th>\n",
       "      <th>month</th>\n",
       "    </tr>\n",
       "  </thead>\n",
       "  <tbody>\n",
       "    <tr>\n",
       "      <th>0</th>\n",
       "      <td>1</td>\n",
       "      <td>0.9</td>\n",
       "      <td>0.166828</td>\n",
       "      <td>-1</td>\n",
       "      <td>88</td>\n",
       "      <td>50</td>\n",
       "      <td>0.020925</td>\n",
       "      <td>-1.331345</td>\n",
       "      <td>AA</td>\n",
       "      <td>769</td>\n",
       "      <td>10650.765523</td>\n",
       "      <td>3134.319630</td>\n",
       "      <td>3863.647740</td>\n",
       "      <td>1</td>\n",
       "      <td>6</td>\n",
       "      <td>CA</td>\n",
       "      <td>185</td>\n",
       "      <td>0</td>\n",
       "      <td>BA</td>\n",
       "      <td>1</td>\n",
       "      <td>0</td>\n",
       "      <td>24</td>\n",
       "      <td>0</td>\n",
       "      <td>500.0</td>\n",
       "      <td>0</td>\n",
       "      <td>INTERNET</td>\n",
       "      <td>3.888115</td>\n",
       "      <td>windows</td>\n",
       "      <td>0</td>\n",
       "      <td>1</td>\n",
       "      <td>0</td>\n",
       "      <td>7</td>\n",
       "    </tr>\n",
       "    <tr>\n",
       "      <th>1</th>\n",
       "      <td>1</td>\n",
       "      <td>0.9</td>\n",
       "      <td>0.296286</td>\n",
       "      <td>-1</td>\n",
       "      <td>144</td>\n",
       "      <td>50</td>\n",
       "      <td>0.005418</td>\n",
       "      <td>-0.816224</td>\n",
       "      <td>AB</td>\n",
       "      <td>366</td>\n",
       "      <td>534.047319</td>\n",
       "      <td>2670.918292</td>\n",
       "      <td>3124.298166</td>\n",
       "      <td>718</td>\n",
       "      <td>3</td>\n",
       "      <td>CA</td>\n",
       "      <td>259</td>\n",
       "      <td>1</td>\n",
       "      <td>BA</td>\n",
       "      <td>0</td>\n",
       "      <td>0</td>\n",
       "      <td>15</td>\n",
       "      <td>0</td>\n",
       "      <td>1500.0</td>\n",
       "      <td>0</td>\n",
       "      <td>INTERNET</td>\n",
       "      <td>31.798819</td>\n",
       "      <td>windows</td>\n",
       "      <td>0</td>\n",
       "      <td>1</td>\n",
       "      <td>0</td>\n",
       "      <td>7</td>\n",
       "    </tr>\n",
       "    <tr>\n",
       "      <th>2</th>\n",
       "      <td>1</td>\n",
       "      <td>0.9</td>\n",
       "      <td>0.044985</td>\n",
       "      <td>-1</td>\n",
       "      <td>132</td>\n",
       "      <td>40</td>\n",
       "      <td>3.108549</td>\n",
       "      <td>-0.755728</td>\n",
       "      <td>AC</td>\n",
       "      <td>870</td>\n",
       "      <td>4048.534263</td>\n",
       "      <td>2893.621498</td>\n",
       "      <td>3159.590679</td>\n",
       "      <td>1</td>\n",
       "      <td>14</td>\n",
       "      <td>CB</td>\n",
       "      <td>177</td>\n",
       "      <td>1</td>\n",
       "      <td>BA</td>\n",
       "      <td>0</td>\n",
       "      <td>1</td>\n",
       "      <td>-1</td>\n",
       "      <td>0</td>\n",
       "      <td>200.0</td>\n",
       "      <td>0</td>\n",
       "      <td>INTERNET</td>\n",
       "      <td>4.728705</td>\n",
       "      <td>other</td>\n",
       "      <td>0</td>\n",
       "      <td>1</td>\n",
       "      <td>0</td>\n",
       "      <td>7</td>\n",
       "    </tr>\n",
       "    <tr>\n",
       "      <th>3</th>\n",
       "      <td>1</td>\n",
       "      <td>0.9</td>\n",
       "      <td>0.159511</td>\n",
       "      <td>-1</td>\n",
       "      <td>22</td>\n",
       "      <td>50</td>\n",
       "      <td>0.019079</td>\n",
       "      <td>-1.205124</td>\n",
       "      <td>AB</td>\n",
       "      <td>810</td>\n",
       "      <td>3457.064063</td>\n",
       "      <td>4054.908412</td>\n",
       "      <td>3022.261812</td>\n",
       "      <td>1921</td>\n",
       "      <td>6</td>\n",
       "      <td>CA</td>\n",
       "      <td>110</td>\n",
       "      <td>1</td>\n",
       "      <td>BA</td>\n",
       "      <td>0</td>\n",
       "      <td>1</td>\n",
       "      <td>31</td>\n",
       "      <td>1</td>\n",
       "      <td>200.0</td>\n",
       "      <td>0</td>\n",
       "      <td>INTERNET</td>\n",
       "      <td>2.047904</td>\n",
       "      <td>linux</td>\n",
       "      <td>0</td>\n",
       "      <td>1</td>\n",
       "      <td>0</td>\n",
       "      <td>7</td>\n",
       "    </tr>\n",
       "    <tr>\n",
       "      <th>4</th>\n",
       "      <td>1</td>\n",
       "      <td>0.9</td>\n",
       "      <td>0.596414</td>\n",
       "      <td>-1</td>\n",
       "      <td>218</td>\n",
       "      <td>50</td>\n",
       "      <td>0.004441</td>\n",
       "      <td>-0.773276</td>\n",
       "      <td>AB</td>\n",
       "      <td>890</td>\n",
       "      <td>5020.341679</td>\n",
       "      <td>2728.237159</td>\n",
       "      <td>3087.670952</td>\n",
       "      <td>1990</td>\n",
       "      <td>2</td>\n",
       "      <td>CA</td>\n",
       "      <td>295</td>\n",
       "      <td>1</td>\n",
       "      <td>BA</td>\n",
       "      <td>1</td>\n",
       "      <td>0</td>\n",
       "      <td>31</td>\n",
       "      <td>0</td>\n",
       "      <td>1500.0</td>\n",
       "      <td>0</td>\n",
       "      <td>INTERNET</td>\n",
       "      <td>3.775225</td>\n",
       "      <td>macintosh</td>\n",
       "      <td>1</td>\n",
       "      <td>1</td>\n",
       "      <td>0</td>\n",
       "      <td>7</td>\n",
       "    </tr>\n",
       "    <tr>\n",
       "      <th>...</th>\n",
       "      <td>...</td>\n",
       "      <td>...</td>\n",
       "      <td>...</td>\n",
       "      <td>...</td>\n",
       "      <td>...</td>\n",
       "      <td>...</td>\n",
       "      <td>...</td>\n",
       "      <td>...</td>\n",
       "      <td>...</td>\n",
       "      <td>...</td>\n",
       "      <td>...</td>\n",
       "      <td>...</td>\n",
       "      <td>...</td>\n",
       "      <td>...</td>\n",
       "      <td>...</td>\n",
       "      <td>...</td>\n",
       "      <td>...</td>\n",
       "      <td>...</td>\n",
       "      <td>...</td>\n",
       "      <td>...</td>\n",
       "      <td>...</td>\n",
       "      <td>...</td>\n",
       "      <td>...</td>\n",
       "      <td>...</td>\n",
       "      <td>...</td>\n",
       "      <td>...</td>\n",
       "      <td>...</td>\n",
       "      <td>...</td>\n",
       "      <td>...</td>\n",
       "      <td>...</td>\n",
       "      <td>...</td>\n",
       "      <td>...</td>\n",
       "    </tr>\n",
       "    <tr>\n",
       "      <th>999995</th>\n",
       "      <td>0</td>\n",
       "      <td>0.6</td>\n",
       "      <td>0.192631</td>\n",
       "      <td>-1</td>\n",
       "      <td>104</td>\n",
       "      <td>40</td>\n",
       "      <td>0.030592</td>\n",
       "      <td>-1.044454</td>\n",
       "      <td>AB</td>\n",
       "      <td>804</td>\n",
       "      <td>7905.711839</td>\n",
       "      <td>8341.468557</td>\n",
       "      <td>4972.635997</td>\n",
       "      <td>1</td>\n",
       "      <td>8</td>\n",
       "      <td>CA</td>\n",
       "      <td>75</td>\n",
       "      <td>1</td>\n",
       "      <td>BC</td>\n",
       "      <td>1</td>\n",
       "      <td>1</td>\n",
       "      <td>25</td>\n",
       "      <td>0</td>\n",
       "      <td>200.0</td>\n",
       "      <td>0</td>\n",
       "      <td>INTERNET</td>\n",
       "      <td>8.511502</td>\n",
       "      <td>linux</td>\n",
       "      <td>1</td>\n",
       "      <td>1</td>\n",
       "      <td>0</td>\n",
       "      <td>4</td>\n",
       "    </tr>\n",
       "    <tr>\n",
       "      <th>999996</th>\n",
       "      <td>0</td>\n",
       "      <td>0.8</td>\n",
       "      <td>0.322989</td>\n",
       "      <td>148</td>\n",
       "      <td>9</td>\n",
       "      <td>50</td>\n",
       "      <td>1.628119</td>\n",
       "      <td>-1.409803</td>\n",
       "      <td>AC</td>\n",
       "      <td>3306</td>\n",
       "      <td>5391.470463</td>\n",
       "      <td>4955.170808</td>\n",
       "      <td>5022.728108</td>\n",
       "      <td>0</td>\n",
       "      <td>2</td>\n",
       "      <td>CC</td>\n",
       "      <td>154</td>\n",
       "      <td>1</td>\n",
       "      <td>BC</td>\n",
       "      <td>1</td>\n",
       "      <td>1</td>\n",
       "      <td>-1</td>\n",
       "      <td>0</td>\n",
       "      <td>200.0</td>\n",
       "      <td>0</td>\n",
       "      <td>INTERNET</td>\n",
       "      <td>8.967865</td>\n",
       "      <td>windows</td>\n",
       "      <td>0</td>\n",
       "      <td>1</td>\n",
       "      <td>0</td>\n",
       "      <td>4</td>\n",
       "    </tr>\n",
       "    <tr>\n",
       "      <th>999997</th>\n",
       "      <td>0</td>\n",
       "      <td>0.8</td>\n",
       "      <td>0.879403</td>\n",
       "      <td>-1</td>\n",
       "      <td>30</td>\n",
       "      <td>20</td>\n",
       "      <td>0.018563</td>\n",
       "      <td>34.692760</td>\n",
       "      <td>AA</td>\n",
       "      <td>1522</td>\n",
       "      <td>8063.102636</td>\n",
       "      <td>5670.654316</td>\n",
       "      <td>4377.196321</td>\n",
       "      <td>2023</td>\n",
       "      <td>6</td>\n",
       "      <td>CF</td>\n",
       "      <td>64</td>\n",
       "      <td>0</td>\n",
       "      <td>BC</td>\n",
       "      <td>0</td>\n",
       "      <td>1</td>\n",
       "      <td>11</td>\n",
       "      <td>0</td>\n",
       "      <td>200.0</td>\n",
       "      <td>0</td>\n",
       "      <td>INTERNET</td>\n",
       "      <td>8.195531</td>\n",
       "      <td>other</td>\n",
       "      <td>0</td>\n",
       "      <td>1</td>\n",
       "      <td>0</td>\n",
       "      <td>4</td>\n",
       "    </tr>\n",
       "    <tr>\n",
       "      <th>999998</th>\n",
       "      <td>0</td>\n",
       "      <td>0.9</td>\n",
       "      <td>0.762112</td>\n",
       "      <td>-1</td>\n",
       "      <td>189</td>\n",
       "      <td>20</td>\n",
       "      <td>0.015352</td>\n",
       "      <td>94.661055</td>\n",
       "      <td>AA</td>\n",
       "      <td>1418</td>\n",
       "      <td>8092.641762</td>\n",
       "      <td>3982.582204</td>\n",
       "      <td>4394.803296</td>\n",
       "      <td>1678</td>\n",
       "      <td>6</td>\n",
       "      <td>CA</td>\n",
       "      <td>163</td>\n",
       "      <td>0</td>\n",
       "      <td>BA</td>\n",
       "      <td>1</td>\n",
       "      <td>0</td>\n",
       "      <td>28</td>\n",
       "      <td>0</td>\n",
       "      <td>500.0</td>\n",
       "      <td>0</td>\n",
       "      <td>INTERNET</td>\n",
       "      <td>4.336064</td>\n",
       "      <td>windows</td>\n",
       "      <td>1</td>\n",
       "      <td>1</td>\n",
       "      <td>0</td>\n",
       "      <td>4</td>\n",
       "    </tr>\n",
       "    <tr>\n",
       "      <th>999999</th>\n",
       "      <td>0</td>\n",
       "      <td>0.2</td>\n",
       "      <td>0.697452</td>\n",
       "      <td>-1</td>\n",
       "      <td>321</td>\n",
       "      <td>20</td>\n",
       "      <td>2.655916</td>\n",
       "      <td>9.908499</td>\n",
       "      <td>AA</td>\n",
       "      <td>951</td>\n",
       "      <td>6169.630036</td>\n",
       "      <td>3695.308261</td>\n",
       "      <td>4352.334543</td>\n",
       "      <td>2</td>\n",
       "      <td>12</td>\n",
       "      <td>CA</td>\n",
       "      <td>36</td>\n",
       "      <td>1</td>\n",
       "      <td>BE</td>\n",
       "      <td>0</td>\n",
       "      <td>1</td>\n",
       "      <td>15</td>\n",
       "      <td>0</td>\n",
       "      <td>200.0</td>\n",
       "      <td>0</td>\n",
       "      <td>INTERNET</td>\n",
       "      <td>6.717022</td>\n",
       "      <td>linux</td>\n",
       "      <td>0</td>\n",
       "      <td>1</td>\n",
       "      <td>0</td>\n",
       "      <td>4</td>\n",
       "    </tr>\n",
       "  </tbody>\n",
       "</table>\n",
       "<p>1000000 rows × 32 columns</p>\n",
       "</div>"
      ],
      "text/plain": [
       "        fraud_bool  income  name_email_similarity  prev_address_months_count  \\\n",
       "0                1     0.9               0.166828                         -1   \n",
       "1                1     0.9               0.296286                         -1   \n",
       "2                1     0.9               0.044985                         -1   \n",
       "3                1     0.9               0.159511                         -1   \n",
       "4                1     0.9               0.596414                         -1   \n",
       "...            ...     ...                    ...                        ...   \n",
       "999995           0     0.6               0.192631                         -1   \n",
       "999996           0     0.8               0.322989                        148   \n",
       "999997           0     0.8               0.879403                         -1   \n",
       "999998           0     0.9               0.762112                         -1   \n",
       "999999           0     0.2               0.697452                         -1   \n",
       "\n",
       "        current_address_months_count  customer_age  days_since_request  \\\n",
       "0                                 88            50            0.020925   \n",
       "1                                144            50            0.005418   \n",
       "2                                132            40            3.108549   \n",
       "3                                 22            50            0.019079   \n",
       "4                                218            50            0.004441   \n",
       "...                              ...           ...                 ...   \n",
       "999995                           104            40            0.030592   \n",
       "999996                             9            50            1.628119   \n",
       "999997                            30            20            0.018563   \n",
       "999998                           189            20            0.015352   \n",
       "999999                           321            20            2.655916   \n",
       "\n",
       "        intended_balcon_amount payment_type  zip_count_4w   velocity_6h  \\\n",
       "0                    -1.331345           AA           769  10650.765523   \n",
       "1                    -0.816224           AB           366    534.047319   \n",
       "2                    -0.755728           AC           870   4048.534263   \n",
       "3                    -1.205124           AB           810   3457.064063   \n",
       "4                    -0.773276           AB           890   5020.341679   \n",
       "...                        ...          ...           ...           ...   \n",
       "999995               -1.044454           AB           804   7905.711839   \n",
       "999996               -1.409803           AC          3306   5391.470463   \n",
       "999997               34.692760           AA          1522   8063.102636   \n",
       "999998               94.661055           AA          1418   8092.641762   \n",
       "999999                9.908499           AA           951   6169.630036   \n",
       "\n",
       "        velocity_24h  velocity_4w  bank_branch_count_8w  \\\n",
       "0        3134.319630  3863.647740                     1   \n",
       "1        2670.918292  3124.298166                   718   \n",
       "2        2893.621498  3159.590679                     1   \n",
       "3        4054.908412  3022.261812                  1921   \n",
       "4        2728.237159  3087.670952                  1990   \n",
       "...              ...          ...                   ...   \n",
       "999995   8341.468557  4972.635997                     1   \n",
       "999996   4955.170808  5022.728108                     0   \n",
       "999997   5670.654316  4377.196321                  2023   \n",
       "999998   3982.582204  4394.803296                  1678   \n",
       "999999   3695.308261  4352.334543                     2   \n",
       "\n",
       "        date_of_birth_distinct_emails_4w employment_status  credit_risk_score  \\\n",
       "0                                      6                CA                185   \n",
       "1                                      3                CA                259   \n",
       "2                                     14                CB                177   \n",
       "3                                      6                CA                110   \n",
       "4                                      2                CA                295   \n",
       "...                                  ...               ...                ...   \n",
       "999995                                 8                CA                 75   \n",
       "999996                                 2                CC                154   \n",
       "999997                                 6                CF                 64   \n",
       "999998                                 6                CA                163   \n",
       "999999                                12                CA                 36   \n",
       "\n",
       "        email_is_free housing_status  phone_home_valid  phone_mobile_valid  \\\n",
       "0                   0             BA                 1                   0   \n",
       "1                   1             BA                 0                   0   \n",
       "2                   1             BA                 0                   1   \n",
       "3                   1             BA                 0                   1   \n",
       "4                   1             BA                 1                   0   \n",
       "...               ...            ...               ...                 ...   \n",
       "999995              1             BC                 1                   1   \n",
       "999996              1             BC                 1                   1   \n",
       "999997              0             BC                 0                   1   \n",
       "999998              0             BA                 1                   0   \n",
       "999999              1             BE                 0                   1   \n",
       "\n",
       "        bank_months_count  has_other_cards  proposed_credit_limit  \\\n",
       "0                      24                0                  500.0   \n",
       "1                      15                0                 1500.0   \n",
       "2                      -1                0                  200.0   \n",
       "3                      31                1                  200.0   \n",
       "4                      31                0                 1500.0   \n",
       "...                   ...              ...                    ...   \n",
       "999995                 25                0                  200.0   \n",
       "999996                 -1                0                  200.0   \n",
       "999997                 11                0                  200.0   \n",
       "999998                 28                0                  500.0   \n",
       "999999                 15                0                  200.0   \n",
       "\n",
       "        foreign_request    source  session_length_in_minutes  device_os  \\\n",
       "0                     0  INTERNET                   3.888115    windows   \n",
       "1                     0  INTERNET                  31.798819    windows   \n",
       "2                     0  INTERNET                   4.728705      other   \n",
       "3                     0  INTERNET                   2.047904      linux   \n",
       "4                     0  INTERNET                   3.775225  macintosh   \n",
       "...                 ...       ...                        ...        ...   \n",
       "999995                0  INTERNET                   8.511502      linux   \n",
       "999996                0  INTERNET                   8.967865    windows   \n",
       "999997                0  INTERNET                   8.195531      other   \n",
       "999998                0  INTERNET                   4.336064    windows   \n",
       "999999                0  INTERNET                   6.717022      linux   \n",
       "\n",
       "        keep_alive_session  device_distinct_emails_8w  device_fraud_count  \\\n",
       "0                        0                          1                   0   \n",
       "1                        0                          1                   0   \n",
       "2                        0                          1                   0   \n",
       "3                        0                          1                   0   \n",
       "4                        1                          1                   0   \n",
       "...                    ...                        ...                 ...   \n",
       "999995                   1                          1                   0   \n",
       "999996                   0                          1                   0   \n",
       "999997                   0                          1                   0   \n",
       "999998                   1                          1                   0   \n",
       "999999                   0                          1                   0   \n",
       "\n",
       "        month  \n",
       "0           7  \n",
       "1           7  \n",
       "2           7  \n",
       "3           7  \n",
       "4           7  \n",
       "...       ...  \n",
       "999995      4  \n",
       "999996      4  \n",
       "999997      4  \n",
       "999998      4  \n",
       "999999      4  \n",
       "\n",
       "[1000000 rows x 32 columns]"
      ]
     },
     "execution_count": 6,
     "metadata": {},
     "output_type": "execute_result"
    }
   ],
   "source": [
    "bf"
   ]
  },
  {
   "cell_type": "markdown",
   "metadata": {},
   "source": [
    "## Analisis generales de la tabla"
   ]
  },
  {
   "cell_type": "markdown",
   "metadata": {},
   "source": [
    "Dimensiones"
   ]
  },
  {
   "cell_type": "code",
   "execution_count": 7,
   "metadata": {},
   "outputs": [
    {
     "name": "stdout",
     "output_type": "stream",
     "text": [
      "(1000000, 32) (1000000, 32)\n"
     ]
    }
   ],
   "source": [
    "print(bf.shape, bf.drop_duplicates().shape) #en esta base de datos hay 1 millón de filas y 32 columnas"
   ]
  },
  {
   "cell_type": "markdown",
   "metadata": {},
   "source": [
    "**Tipos de datos**"
   ]
  },
  {
   "cell_type": "code",
   "execution_count": 8,
   "metadata": {},
   "outputs": [
    {
     "data": {
      "text/plain": [
       "{'fraud_bool': CategoricalDtype(categories=[0, 1], ordered=False),\n",
       " 'income': dtype('float64'),\n",
       " 'name_email_similarity': dtype('float64'),\n",
       " 'prev_address_months_count': dtype('int64'),\n",
       " 'current_address_months_count': dtype('int64'),\n",
       " 'customer_age': dtype('int64'),\n",
       " 'days_since_request': dtype('float64'),\n",
       " 'intended_balcon_amount': dtype('float64'),\n",
       " 'payment_type': CategoricalDtype(categories=['AA', 'AB', 'AC', 'AD', 'AE'], ordered=False),\n",
       " 'zip_count_4w': dtype('int64'),\n",
       " 'velocity_6h': dtype('float64'),\n",
       " 'velocity_24h': dtype('float64'),\n",
       " 'velocity_4w': dtype('float64'),\n",
       " 'bank_branch_count_8w': dtype('int64'),\n",
       " 'date_of_birth_distinct_emails_4w': dtype('int64'),\n",
       " 'employment_status': CategoricalDtype(categories=['CA', 'CB', 'CC', 'CD', 'CE', 'CF', 'CG'], ordered=False),\n",
       " 'credit_risk_score': dtype('int64'),\n",
       " 'email_is_free': CategoricalDtype(categories=[0, 1], ordered=False),\n",
       " 'housing_status': CategoricalDtype(categories=['BA', 'BB', 'BC', 'BD', 'BE', 'BF', 'BG'], ordered=False),\n",
       " 'phone_home_valid': CategoricalDtype(categories=[0, 1], ordered=False),\n",
       " 'phone_mobile_valid': CategoricalDtype(categories=[0, 1], ordered=False),\n",
       " 'bank_months_count': dtype('int64'),\n",
       " 'has_other_cards': CategoricalDtype(categories=[0, 1], ordered=False),\n",
       " 'proposed_credit_limit': dtype('int64'),\n",
       " 'foreign_request': CategoricalDtype(categories=[0, 1], ordered=False),\n",
       " 'source': CategoricalDtype(categories=['INTERNET', 'TELEAPP'], ordered=False),\n",
       " 'session_length_in_minutes': dtype('float64'),\n",
       " 'device_os': CategoricalDtype(categories=['linux', 'macintosh', 'other', 'windows', 'x11'], ordered=False),\n",
       " 'keep_alive_session': CategoricalDtype(categories=[0, 1], ordered=False),\n",
       " 'device_distinct_emails_8w': dtype('int64'),\n",
       " 'device_fraud_count': dtype('int64'),\n",
       " 'month': dtype('int64')}"
      ]
     },
     "execution_count": 8,
     "metadata": {},
     "output_type": "execute_result"
    }
   ],
   "source": [
    "new_bf.dtypes.to_dict() #los tipos de datos"
   ]
  },
  {
   "cell_type": "markdown",
   "metadata": {},
   "source": [
    "## Exploración de la variable objetivo y tratamiento"
   ]
  },
  {
   "cell_type": "code",
   "execution_count": 9,
   "metadata": {},
   "outputs": [
    {
     "data": {
      "text/html": [
       "<div>\n",
       "<style scoped>\n",
       "    .dataframe tbody tr th:only-of-type {\n",
       "        vertical-align: middle;\n",
       "    }\n",
       "\n",
       "    .dataframe tbody tr th {\n",
       "        vertical-align: top;\n",
       "    }\n",
       "\n",
       "    .dataframe thead th {\n",
       "        text-align: right;\n",
       "    }\n",
       "</style>\n",
       "<table border=\"1\" class=\"dataframe\">\n",
       "  <thead>\n",
       "    <tr style=\"text-align: right;\">\n",
       "      <th></th>\n",
       "      <th>index</th>\n",
       "      <th>percent</th>\n",
       "      <th>fraud_bool</th>\n",
       "    </tr>\n",
       "  </thead>\n",
       "  <tbody>\n",
       "    <tr>\n",
       "      <th>0</th>\n",
       "      <td>0</td>\n",
       "      <td>98.8971</td>\n",
       "      <td>988971</td>\n",
       "    </tr>\n",
       "    <tr>\n",
       "      <th>1</th>\n",
       "      <td>1</td>\n",
       "      <td>1.1029</td>\n",
       "      <td>11029</td>\n",
       "    </tr>\n",
       "  </tbody>\n",
       "</table>\n",
       "</div>"
      ],
      "text/plain": [
       "   index  percent  fraud_bool\n",
       "0      0  98.8971      988971\n",
       "1      1   1.1029       11029"
      ]
     },
     "execution_count": 9,
     "metadata": {},
     "output_type": "execute_result"
    }
   ],
   "source": [
    "bf_fraud_bool = bf['fraud_bool']\\\n",
    "        .value_counts(normalize=True)\\\n",
    "        .mul(100).rename('percent').reset_index()\n",
    "\n",
    "bf_fraud_bool_conteo = bf['fraud_bool'].value_counts().reset_index()\n",
    "bf_fraud_bool_pc = pd.merge(bf_fraud_bool, bf_fraud_bool_conteo, on=['index'], how='inner')\n",
    "bf_fraud_bool_pc"
   ]
  },
  {
   "cell_type": "markdown",
   "metadata": {},
   "source": [
    "Elegimos nuestra variable objetivo, en este caso es 'fraud_bool', es decir, los fraudes booleanos que existen en nuestro dataframe. Se puede observar una clara diferencia, donde mayoritariamente destaca el valor '0', que equivaldría a no fraude. \n",
    "\n",
    "Hemos creado la variable 'bf_fraud_bool_pc', donde combinamos (merge) la variable de fraudes ('bf_fraud_bool') con el conteo de los posibles casos (988971 ceros/no fraudes y 11029 unos/fraudes), para obtener el porcentaje de casos."
   ]
  },
  {
   "cell_type": "code",
   "execution_count": 10,
   "metadata": {},
   "outputs": [
    {
     "data": {
      "application/vnd.plotly.v1+json": {
       "config": {
        "plotlyServerURL": "https://plot.ly"
       },
       "data": [
        {
         "alignmentgroup": "True",
         "hovertemplate": "variable=percent<br>index=%{x}<br>value=%{y}<extra></extra>",
         "legendgroup": "percent",
         "marker": {
          "color": "#636efa",
          "pattern": {
           "shape": ""
          }
         },
         "name": "percent",
         "offsetgroup": "percent",
         "orientation": "v",
         "showlegend": true,
         "textposition": "auto",
         "type": "bar",
         "x": [
          0,
          1
         ],
         "xaxis": "x",
         "y": [
          98.89710000000001,
          1.1029
         ],
         "yaxis": "y"
        }
       ],
       "layout": {
        "barmode": "relative",
        "legend": {
         "title": {
          "text": "variable"
         },
         "tracegroupgap": 0
        },
        "margin": {
         "t": 60
        },
        "template": {
         "data": {
          "bar": [
           {
            "error_x": {
             "color": "#2a3f5f"
            },
            "error_y": {
             "color": "#2a3f5f"
            },
            "marker": {
             "line": {
              "color": "#E5ECF6",
              "width": 0.5
             },
             "pattern": {
              "fillmode": "overlay",
              "size": 10,
              "solidity": 0.2
             }
            },
            "type": "bar"
           }
          ],
          "barpolar": [
           {
            "marker": {
             "line": {
              "color": "#E5ECF6",
              "width": 0.5
             },
             "pattern": {
              "fillmode": "overlay",
              "size": 10,
              "solidity": 0.2
             }
            },
            "type": "barpolar"
           }
          ],
          "carpet": [
           {
            "aaxis": {
             "endlinecolor": "#2a3f5f",
             "gridcolor": "white",
             "linecolor": "white",
             "minorgridcolor": "white",
             "startlinecolor": "#2a3f5f"
            },
            "baxis": {
             "endlinecolor": "#2a3f5f",
             "gridcolor": "white",
             "linecolor": "white",
             "minorgridcolor": "white",
             "startlinecolor": "#2a3f5f"
            },
            "type": "carpet"
           }
          ],
          "choropleth": [
           {
            "colorbar": {
             "outlinewidth": 0,
             "ticks": ""
            },
            "type": "choropleth"
           }
          ],
          "contour": [
           {
            "colorbar": {
             "outlinewidth": 0,
             "ticks": ""
            },
            "colorscale": [
             [
              0,
              "#0d0887"
             ],
             [
              0.1111111111111111,
              "#46039f"
             ],
             [
              0.2222222222222222,
              "#7201a8"
             ],
             [
              0.3333333333333333,
              "#9c179e"
             ],
             [
              0.4444444444444444,
              "#bd3786"
             ],
             [
              0.5555555555555556,
              "#d8576b"
             ],
             [
              0.6666666666666666,
              "#ed7953"
             ],
             [
              0.7777777777777778,
              "#fb9f3a"
             ],
             [
              0.8888888888888888,
              "#fdca26"
             ],
             [
              1,
              "#f0f921"
             ]
            ],
            "type": "contour"
           }
          ],
          "contourcarpet": [
           {
            "colorbar": {
             "outlinewidth": 0,
             "ticks": ""
            },
            "type": "contourcarpet"
           }
          ],
          "heatmap": [
           {
            "colorbar": {
             "outlinewidth": 0,
             "ticks": ""
            },
            "colorscale": [
             [
              0,
              "#0d0887"
             ],
             [
              0.1111111111111111,
              "#46039f"
             ],
             [
              0.2222222222222222,
              "#7201a8"
             ],
             [
              0.3333333333333333,
              "#9c179e"
             ],
             [
              0.4444444444444444,
              "#bd3786"
             ],
             [
              0.5555555555555556,
              "#d8576b"
             ],
             [
              0.6666666666666666,
              "#ed7953"
             ],
             [
              0.7777777777777778,
              "#fb9f3a"
             ],
             [
              0.8888888888888888,
              "#fdca26"
             ],
             [
              1,
              "#f0f921"
             ]
            ],
            "type": "heatmap"
           }
          ],
          "heatmapgl": [
           {
            "colorbar": {
             "outlinewidth": 0,
             "ticks": ""
            },
            "colorscale": [
             [
              0,
              "#0d0887"
             ],
             [
              0.1111111111111111,
              "#46039f"
             ],
             [
              0.2222222222222222,
              "#7201a8"
             ],
             [
              0.3333333333333333,
              "#9c179e"
             ],
             [
              0.4444444444444444,
              "#bd3786"
             ],
             [
              0.5555555555555556,
              "#d8576b"
             ],
             [
              0.6666666666666666,
              "#ed7953"
             ],
             [
              0.7777777777777778,
              "#fb9f3a"
             ],
             [
              0.8888888888888888,
              "#fdca26"
             ],
             [
              1,
              "#f0f921"
             ]
            ],
            "type": "heatmapgl"
           }
          ],
          "histogram": [
           {
            "marker": {
             "pattern": {
              "fillmode": "overlay",
              "size": 10,
              "solidity": 0.2
             }
            },
            "type": "histogram"
           }
          ],
          "histogram2d": [
           {
            "colorbar": {
             "outlinewidth": 0,
             "ticks": ""
            },
            "colorscale": [
             [
              0,
              "#0d0887"
             ],
             [
              0.1111111111111111,
              "#46039f"
             ],
             [
              0.2222222222222222,
              "#7201a8"
             ],
             [
              0.3333333333333333,
              "#9c179e"
             ],
             [
              0.4444444444444444,
              "#bd3786"
             ],
             [
              0.5555555555555556,
              "#d8576b"
             ],
             [
              0.6666666666666666,
              "#ed7953"
             ],
             [
              0.7777777777777778,
              "#fb9f3a"
             ],
             [
              0.8888888888888888,
              "#fdca26"
             ],
             [
              1,
              "#f0f921"
             ]
            ],
            "type": "histogram2d"
           }
          ],
          "histogram2dcontour": [
           {
            "colorbar": {
             "outlinewidth": 0,
             "ticks": ""
            },
            "colorscale": [
             [
              0,
              "#0d0887"
             ],
             [
              0.1111111111111111,
              "#46039f"
             ],
             [
              0.2222222222222222,
              "#7201a8"
             ],
             [
              0.3333333333333333,
              "#9c179e"
             ],
             [
              0.4444444444444444,
              "#bd3786"
             ],
             [
              0.5555555555555556,
              "#d8576b"
             ],
             [
              0.6666666666666666,
              "#ed7953"
             ],
             [
              0.7777777777777778,
              "#fb9f3a"
             ],
             [
              0.8888888888888888,
              "#fdca26"
             ],
             [
              1,
              "#f0f921"
             ]
            ],
            "type": "histogram2dcontour"
           }
          ],
          "mesh3d": [
           {
            "colorbar": {
             "outlinewidth": 0,
             "ticks": ""
            },
            "type": "mesh3d"
           }
          ],
          "parcoords": [
           {
            "line": {
             "colorbar": {
              "outlinewidth": 0,
              "ticks": ""
             }
            },
            "type": "parcoords"
           }
          ],
          "pie": [
           {
            "automargin": true,
            "type": "pie"
           }
          ],
          "scatter": [
           {
            "fillpattern": {
             "fillmode": "overlay",
             "size": 10,
             "solidity": 0.2
            },
            "type": "scatter"
           }
          ],
          "scatter3d": [
           {
            "line": {
             "colorbar": {
              "outlinewidth": 0,
              "ticks": ""
             }
            },
            "marker": {
             "colorbar": {
              "outlinewidth": 0,
              "ticks": ""
             }
            },
            "type": "scatter3d"
           }
          ],
          "scattercarpet": [
           {
            "marker": {
             "colorbar": {
              "outlinewidth": 0,
              "ticks": ""
             }
            },
            "type": "scattercarpet"
           }
          ],
          "scattergeo": [
           {
            "marker": {
             "colorbar": {
              "outlinewidth": 0,
              "ticks": ""
             }
            },
            "type": "scattergeo"
           }
          ],
          "scattergl": [
           {
            "marker": {
             "colorbar": {
              "outlinewidth": 0,
              "ticks": ""
             }
            },
            "type": "scattergl"
           }
          ],
          "scattermapbox": [
           {
            "marker": {
             "colorbar": {
              "outlinewidth": 0,
              "ticks": ""
             }
            },
            "type": "scattermapbox"
           }
          ],
          "scatterpolar": [
           {
            "marker": {
             "colorbar": {
              "outlinewidth": 0,
              "ticks": ""
             }
            },
            "type": "scatterpolar"
           }
          ],
          "scatterpolargl": [
           {
            "marker": {
             "colorbar": {
              "outlinewidth": 0,
              "ticks": ""
             }
            },
            "type": "scatterpolargl"
           }
          ],
          "scatterternary": [
           {
            "marker": {
             "colorbar": {
              "outlinewidth": 0,
              "ticks": ""
             }
            },
            "type": "scatterternary"
           }
          ],
          "surface": [
           {
            "colorbar": {
             "outlinewidth": 0,
             "ticks": ""
            },
            "colorscale": [
             [
              0,
              "#0d0887"
             ],
             [
              0.1111111111111111,
              "#46039f"
             ],
             [
              0.2222222222222222,
              "#7201a8"
             ],
             [
              0.3333333333333333,
              "#9c179e"
             ],
             [
              0.4444444444444444,
              "#bd3786"
             ],
             [
              0.5555555555555556,
              "#d8576b"
             ],
             [
              0.6666666666666666,
              "#ed7953"
             ],
             [
              0.7777777777777778,
              "#fb9f3a"
             ],
             [
              0.8888888888888888,
              "#fdca26"
             ],
             [
              1,
              "#f0f921"
             ]
            ],
            "type": "surface"
           }
          ],
          "table": [
           {
            "cells": {
             "fill": {
              "color": "#EBF0F8"
             },
             "line": {
              "color": "white"
             }
            },
            "header": {
             "fill": {
              "color": "#C8D4E3"
             },
             "line": {
              "color": "white"
             }
            },
            "type": "table"
           }
          ]
         },
         "layout": {
          "annotationdefaults": {
           "arrowcolor": "#2a3f5f",
           "arrowhead": 0,
           "arrowwidth": 1
          },
          "autotypenumbers": "strict",
          "coloraxis": {
           "colorbar": {
            "outlinewidth": 0,
            "ticks": ""
           }
          },
          "colorscale": {
           "diverging": [
            [
             0,
             "#8e0152"
            ],
            [
             0.1,
             "#c51b7d"
            ],
            [
             0.2,
             "#de77ae"
            ],
            [
             0.3,
             "#f1b6da"
            ],
            [
             0.4,
             "#fde0ef"
            ],
            [
             0.5,
             "#f7f7f7"
            ],
            [
             0.6,
             "#e6f5d0"
            ],
            [
             0.7,
             "#b8e186"
            ],
            [
             0.8,
             "#7fbc41"
            ],
            [
             0.9,
             "#4d9221"
            ],
            [
             1,
             "#276419"
            ]
           ],
           "sequential": [
            [
             0,
             "#0d0887"
            ],
            [
             0.1111111111111111,
             "#46039f"
            ],
            [
             0.2222222222222222,
             "#7201a8"
            ],
            [
             0.3333333333333333,
             "#9c179e"
            ],
            [
             0.4444444444444444,
             "#bd3786"
            ],
            [
             0.5555555555555556,
             "#d8576b"
            ],
            [
             0.6666666666666666,
             "#ed7953"
            ],
            [
             0.7777777777777778,
             "#fb9f3a"
            ],
            [
             0.8888888888888888,
             "#fdca26"
            ],
            [
             1,
             "#f0f921"
            ]
           ],
           "sequentialminus": [
            [
             0,
             "#0d0887"
            ],
            [
             0.1111111111111111,
             "#46039f"
            ],
            [
             0.2222222222222222,
             "#7201a8"
            ],
            [
             0.3333333333333333,
             "#9c179e"
            ],
            [
             0.4444444444444444,
             "#bd3786"
            ],
            [
             0.5555555555555556,
             "#d8576b"
            ],
            [
             0.6666666666666666,
             "#ed7953"
            ],
            [
             0.7777777777777778,
             "#fb9f3a"
            ],
            [
             0.8888888888888888,
             "#fdca26"
            ],
            [
             1,
             "#f0f921"
            ]
           ]
          },
          "colorway": [
           "#636efa",
           "#EF553B",
           "#00cc96",
           "#ab63fa",
           "#FFA15A",
           "#19d3f3",
           "#FF6692",
           "#B6E880",
           "#FF97FF",
           "#FECB52"
          ],
          "font": {
           "color": "#2a3f5f"
          },
          "geo": {
           "bgcolor": "white",
           "lakecolor": "white",
           "landcolor": "#E5ECF6",
           "showlakes": true,
           "showland": true,
           "subunitcolor": "white"
          },
          "hoverlabel": {
           "align": "left"
          },
          "hovermode": "closest",
          "mapbox": {
           "style": "light"
          },
          "paper_bgcolor": "white",
          "plot_bgcolor": "#E5ECF6",
          "polar": {
           "angularaxis": {
            "gridcolor": "white",
            "linecolor": "white",
            "ticks": ""
           },
           "bgcolor": "#E5ECF6",
           "radialaxis": {
            "gridcolor": "white",
            "linecolor": "white",
            "ticks": ""
           }
          },
          "scene": {
           "xaxis": {
            "backgroundcolor": "#E5ECF6",
            "gridcolor": "white",
            "gridwidth": 2,
            "linecolor": "white",
            "showbackground": true,
            "ticks": "",
            "zerolinecolor": "white"
           },
           "yaxis": {
            "backgroundcolor": "#E5ECF6",
            "gridcolor": "white",
            "gridwidth": 2,
            "linecolor": "white",
            "showbackground": true,
            "ticks": "",
            "zerolinecolor": "white"
           },
           "zaxis": {
            "backgroundcolor": "#E5ECF6",
            "gridcolor": "white",
            "gridwidth": 2,
            "linecolor": "white",
            "showbackground": true,
            "ticks": "",
            "zerolinecolor": "white"
           }
          },
          "shapedefaults": {
           "line": {
            "color": "#2a3f5f"
           }
          },
          "ternary": {
           "aaxis": {
            "gridcolor": "white",
            "linecolor": "white",
            "ticks": ""
           },
           "baxis": {
            "gridcolor": "white",
            "linecolor": "white",
            "ticks": ""
           },
           "bgcolor": "#E5ECF6",
           "caxis": {
            "gridcolor": "white",
            "linecolor": "white",
            "ticks": ""
           }
          },
          "title": {
           "x": 0.05
          },
          "xaxis": {
           "automargin": true,
           "gridcolor": "white",
           "linecolor": "white",
           "ticks": "",
           "title": {
            "standoff": 15
           },
           "zerolinecolor": "white",
           "zerolinewidth": 2
          },
          "yaxis": {
           "automargin": true,
           "gridcolor": "white",
           "linecolor": "white",
           "ticks": "",
           "title": {
            "standoff": 15
           },
           "zerolinecolor": "white",
           "zerolinewidth": 2
          }
         }
        },
        "xaxis": {
         "anchor": "y",
         "categoryarray": [
          "No Fraude",
          "Fraude"
         ],
         "categoryorder": "array",
         "domain": [
          0,
          1
         ],
         "title": {
          "text": "index"
         }
        },
        "yaxis": {
         "anchor": "x",
         "domain": [
          0,
          1
         ],
         "title": {
          "text": "value"
         }
        }
       }
      }
     },
     "metadata": {},
     "output_type": "display_data"
    }
   ],
   "source": [
    "fig = px.bar(bf_fraud_bool_pc, x=\"index\", y=['percent'])\n",
    "fig.update_xaxes(categoryorder='category ascending')\n",
    "fig.update_layout(xaxis={'categoryorder':'array', 'categoryarray': ['No Fraude', 'Fraude']})\n",
    "fig.show()\n",
    "\n",
    "# 0 = No Fraude\n",
    "# 1 = Fraude"
   ]
  },
  {
   "cell_type": "markdown",
   "metadata": {},
   "source": [
    "## Selección de threshold por filas y columnas para eliminar valores missing"
   ]
  },
  {
   "cell_type": "code",
   "execution_count": 11,
   "metadata": {},
   "outputs": [
    {
     "name": "stdout",
     "output_type": "stream",
     "text": [
      "(32,) (1000000,)\n"
     ]
    }
   ],
   "source": [
    "bf_series_null_columns = bf.isnull().sum().sort_values(ascending=False)\n",
    "bf_series_null_rows = bf.isnull().sum(axis=1).sort_values(ascending=False)\n",
    "print(bf_series_null_columns.shape, bf_series_null_rows.shape)\n",
    "\n",
    "bf_null_columnas = pd.DataFrame(bf_series_null_columns, columns=['nulos_columnas'])     \n",
    "bf_null_filas = pd.DataFrame(bf_series_null_rows, columns=['nulos_filas'])  \n",
    "bf_null_filas['target'] = bf['fraud_bool'].copy()\n",
    "bf_null_columnas['porcentaje_columnas'] = bf_null_columnas['nulos_columnas']/bf.shape[0]\n",
    "bf_null_filas['porcentaje_filas']= bf_null_filas['nulos_filas']/bf.shape[1]\n",
    "# # pd_null"
   ]
  },
  {
   "cell_type": "code",
   "execution_count": 12,
   "metadata": {},
   "outputs": [
    {
     "data": {
      "text/plain": [
       "(1000000, 32)"
      ]
     },
     "execution_count": 12,
     "metadata": {},
     "output_type": "execute_result"
    }
   ],
   "source": [
    "bf.shape"
   ]
  },
  {
   "cell_type": "code",
   "execution_count": 13,
   "metadata": {},
   "outputs": [
    {
     "data": {
      "text/html": [
       "<div>\n",
       "<style scoped>\n",
       "    .dataframe tbody tr th:only-of-type {\n",
       "        vertical-align: middle;\n",
       "    }\n",
       "\n",
       "    .dataframe tbody tr th {\n",
       "        vertical-align: top;\n",
       "    }\n",
       "\n",
       "    .dataframe thead th {\n",
       "        text-align: right;\n",
       "    }\n",
       "</style>\n",
       "<table border=\"1\" class=\"dataframe\">\n",
       "  <thead>\n",
       "    <tr style=\"text-align: right;\">\n",
       "      <th></th>\n",
       "      <th>nulos_columnas</th>\n",
       "      <th>porcentaje_columnas</th>\n",
       "    </tr>\n",
       "  </thead>\n",
       "  <tbody>\n",
       "    <tr>\n",
       "      <th>fraud_bool</th>\n",
       "      <td>0</td>\n",
       "      <td>0.0</td>\n",
       "    </tr>\n",
       "    <tr>\n",
       "      <th>income</th>\n",
       "      <td>0</td>\n",
       "      <td>0.0</td>\n",
       "    </tr>\n",
       "    <tr>\n",
       "      <th>device_fraud_count</th>\n",
       "      <td>0</td>\n",
       "      <td>0.0</td>\n",
       "    </tr>\n",
       "    <tr>\n",
       "      <th>device_distinct_emails_8w</th>\n",
       "      <td>0</td>\n",
       "      <td>0.0</td>\n",
       "    </tr>\n",
       "    <tr>\n",
       "      <th>keep_alive_session</th>\n",
       "      <td>0</td>\n",
       "      <td>0.0</td>\n",
       "    </tr>\n",
       "    <tr>\n",
       "      <th>device_os</th>\n",
       "      <td>0</td>\n",
       "      <td>0.0</td>\n",
       "    </tr>\n",
       "    <tr>\n",
       "      <th>session_length_in_minutes</th>\n",
       "      <td>0</td>\n",
       "      <td>0.0</td>\n",
       "    </tr>\n",
       "    <tr>\n",
       "      <th>source</th>\n",
       "      <td>0</td>\n",
       "      <td>0.0</td>\n",
       "    </tr>\n",
       "    <tr>\n",
       "      <th>foreign_request</th>\n",
       "      <td>0</td>\n",
       "      <td>0.0</td>\n",
       "    </tr>\n",
       "    <tr>\n",
       "      <th>proposed_credit_limit</th>\n",
       "      <td>0</td>\n",
       "      <td>0.0</td>\n",
       "    </tr>\n",
       "    <tr>\n",
       "      <th>has_other_cards</th>\n",
       "      <td>0</td>\n",
       "      <td>0.0</td>\n",
       "    </tr>\n",
       "    <tr>\n",
       "      <th>bank_months_count</th>\n",
       "      <td>0</td>\n",
       "      <td>0.0</td>\n",
       "    </tr>\n",
       "    <tr>\n",
       "      <th>phone_mobile_valid</th>\n",
       "      <td>0</td>\n",
       "      <td>0.0</td>\n",
       "    </tr>\n",
       "    <tr>\n",
       "      <th>phone_home_valid</th>\n",
       "      <td>0</td>\n",
       "      <td>0.0</td>\n",
       "    </tr>\n",
       "    <tr>\n",
       "      <th>housing_status</th>\n",
       "      <td>0</td>\n",
       "      <td>0.0</td>\n",
       "    </tr>\n",
       "    <tr>\n",
       "      <th>email_is_free</th>\n",
       "      <td>0</td>\n",
       "      <td>0.0</td>\n",
       "    </tr>\n",
       "    <tr>\n",
       "      <th>credit_risk_score</th>\n",
       "      <td>0</td>\n",
       "      <td>0.0</td>\n",
       "    </tr>\n",
       "    <tr>\n",
       "      <th>employment_status</th>\n",
       "      <td>0</td>\n",
       "      <td>0.0</td>\n",
       "    </tr>\n",
       "    <tr>\n",
       "      <th>date_of_birth_distinct_emails_4w</th>\n",
       "      <td>0</td>\n",
       "      <td>0.0</td>\n",
       "    </tr>\n",
       "    <tr>\n",
       "      <th>bank_branch_count_8w</th>\n",
       "      <td>0</td>\n",
       "      <td>0.0</td>\n",
       "    </tr>\n",
       "    <tr>\n",
       "      <th>velocity_4w</th>\n",
       "      <td>0</td>\n",
       "      <td>0.0</td>\n",
       "    </tr>\n",
       "    <tr>\n",
       "      <th>velocity_24h</th>\n",
       "      <td>0</td>\n",
       "      <td>0.0</td>\n",
       "    </tr>\n",
       "    <tr>\n",
       "      <th>velocity_6h</th>\n",
       "      <td>0</td>\n",
       "      <td>0.0</td>\n",
       "    </tr>\n",
       "    <tr>\n",
       "      <th>zip_count_4w</th>\n",
       "      <td>0</td>\n",
       "      <td>0.0</td>\n",
       "    </tr>\n",
       "    <tr>\n",
       "      <th>payment_type</th>\n",
       "      <td>0</td>\n",
       "      <td>0.0</td>\n",
       "    </tr>\n",
       "    <tr>\n",
       "      <th>intended_balcon_amount</th>\n",
       "      <td>0</td>\n",
       "      <td>0.0</td>\n",
       "    </tr>\n",
       "    <tr>\n",
       "      <th>days_since_request</th>\n",
       "      <td>0</td>\n",
       "      <td>0.0</td>\n",
       "    </tr>\n",
       "    <tr>\n",
       "      <th>customer_age</th>\n",
       "      <td>0</td>\n",
       "      <td>0.0</td>\n",
       "    </tr>\n",
       "    <tr>\n",
       "      <th>current_address_months_count</th>\n",
       "      <td>0</td>\n",
       "      <td>0.0</td>\n",
       "    </tr>\n",
       "    <tr>\n",
       "      <th>prev_address_months_count</th>\n",
       "      <td>0</td>\n",
       "      <td>0.0</td>\n",
       "    </tr>\n",
       "    <tr>\n",
       "      <th>name_email_similarity</th>\n",
       "      <td>0</td>\n",
       "      <td>0.0</td>\n",
       "    </tr>\n",
       "    <tr>\n",
       "      <th>month</th>\n",
       "      <td>0</td>\n",
       "      <td>0.0</td>\n",
       "    </tr>\n",
       "  </tbody>\n",
       "</table>\n",
       "</div>"
      ],
      "text/plain": [
       "                                  nulos_columnas  porcentaje_columnas\n",
       "fraud_bool                                     0                  0.0\n",
       "income                                         0                  0.0\n",
       "device_fraud_count                             0                  0.0\n",
       "device_distinct_emails_8w                      0                  0.0\n",
       "keep_alive_session                             0                  0.0\n",
       "device_os                                      0                  0.0\n",
       "session_length_in_minutes                      0                  0.0\n",
       "source                                         0                  0.0\n",
       "foreign_request                                0                  0.0\n",
       "proposed_credit_limit                          0                  0.0\n",
       "has_other_cards                                0                  0.0\n",
       "bank_months_count                              0                  0.0\n",
       "phone_mobile_valid                             0                  0.0\n",
       "phone_home_valid                               0                  0.0\n",
       "housing_status                                 0                  0.0\n",
       "email_is_free                                  0                  0.0\n",
       "credit_risk_score                              0                  0.0\n",
       "employment_status                              0                  0.0\n",
       "date_of_birth_distinct_emails_4w               0                  0.0\n",
       "bank_branch_count_8w                           0                  0.0\n",
       "velocity_4w                                    0                  0.0\n",
       "velocity_24h                                   0                  0.0\n",
       "velocity_6h                                    0                  0.0\n",
       "zip_count_4w                                   0                  0.0\n",
       "payment_type                                   0                  0.0\n",
       "intended_balcon_amount                         0                  0.0\n",
       "days_since_request                             0                  0.0\n",
       "customer_age                                   0                  0.0\n",
       "current_address_months_count                   0                  0.0\n",
       "prev_address_months_count                      0                  0.0\n",
       "name_email_similarity                          0                  0.0\n",
       "month                                          0                  0.0"
      ]
     },
     "execution_count": 13,
     "metadata": {},
     "output_type": "execute_result"
    }
   ],
   "source": [
    "bf_null_columnas"
   ]
  },
  {
   "cell_type": "markdown",
   "metadata": {},
   "source": [
    "Podemos observar que el número de valores nulos identificados en el dataset es de 0,por lo tanto no es necesario modificarlo para eliminar valores nulos."
   ]
  },
  {
   "cell_type": "code",
   "execution_count": 14,
   "metadata": {},
   "outputs": [
    {
     "data": {
      "text/plain": [
       "(1000000, 32)"
      ]
     },
     "execution_count": 14,
     "metadata": {},
     "output_type": "execute_result"
    }
   ],
   "source": [
    "threshold=0.9\n",
    "list_vars_not_null = list(bf_null_columnas[bf_null_columnas['porcentaje_columnas']<threshold].index)\n",
    "bf_filter_null = bf.loc[:, list_vars_not_null]\n",
    "bf_filter_null.shape"
   ]
  },
  {
   "cell_type": "markdown",
   "metadata": {},
   "source": [
    "Podemos confirmar que no hay valores nulos."
   ]
  },
  {
   "cell_type": "code",
   "execution_count": 15,
   "metadata": {
    "scrolled": true
   },
   "outputs": [
    {
     "data": {
      "text/html": [
       "<div>\n",
       "<style scoped>\n",
       "    .dataframe tbody tr th:only-of-type {\n",
       "        vertical-align: middle;\n",
       "    }\n",
       "\n",
       "    .dataframe tbody tr th {\n",
       "        vertical-align: top;\n",
       "    }\n",
       "\n",
       "    .dataframe thead th {\n",
       "        text-align: right;\n",
       "    }\n",
       "</style>\n",
       "<table border=\"1\" class=\"dataframe\">\n",
       "  <thead>\n",
       "    <tr style=\"text-align: right;\">\n",
       "      <th></th>\n",
       "      <th>nulos_filas</th>\n",
       "      <th>target</th>\n",
       "      <th>porcentaje_filas</th>\n",
       "    </tr>\n",
       "  </thead>\n",
       "  <tbody>\n",
       "    <tr>\n",
       "      <th>0</th>\n",
       "      <td>0</td>\n",
       "      <td>1</td>\n",
       "      <td>0.0</td>\n",
       "    </tr>\n",
       "    <tr>\n",
       "      <th>666657</th>\n",
       "      <td>0</td>\n",
       "      <td>0</td>\n",
       "      <td>0.0</td>\n",
       "    </tr>\n",
       "    <tr>\n",
       "      <th>666659</th>\n",
       "      <td>0</td>\n",
       "      <td>0</td>\n",
       "      <td>0.0</td>\n",
       "    </tr>\n",
       "    <tr>\n",
       "      <th>666660</th>\n",
       "      <td>0</td>\n",
       "      <td>0</td>\n",
       "      <td>0.0</td>\n",
       "    </tr>\n",
       "    <tr>\n",
       "      <th>666661</th>\n",
       "      <td>0</td>\n",
       "      <td>0</td>\n",
       "      <td>0.0</td>\n",
       "    </tr>\n",
       "    <tr>\n",
       "      <th>...</th>\n",
       "      <td>...</td>\n",
       "      <td>...</td>\n",
       "      <td>...</td>\n",
       "    </tr>\n",
       "    <tr>\n",
       "      <th>333337</th>\n",
       "      <td>0</td>\n",
       "      <td>0</td>\n",
       "      <td>0.0</td>\n",
       "    </tr>\n",
       "    <tr>\n",
       "      <th>333338</th>\n",
       "      <td>0</td>\n",
       "      <td>0</td>\n",
       "      <td>0.0</td>\n",
       "    </tr>\n",
       "    <tr>\n",
       "      <th>333339</th>\n",
       "      <td>0</td>\n",
       "      <td>0</td>\n",
       "      <td>0.0</td>\n",
       "    </tr>\n",
       "    <tr>\n",
       "      <th>333340</th>\n",
       "      <td>0</td>\n",
       "      <td>0</td>\n",
       "      <td>0.0</td>\n",
       "    </tr>\n",
       "    <tr>\n",
       "      <th>999999</th>\n",
       "      <td>0</td>\n",
       "      <td>0</td>\n",
       "      <td>0.0</td>\n",
       "    </tr>\n",
       "  </tbody>\n",
       "</table>\n",
       "<p>1000000 rows × 3 columns</p>\n",
       "</div>"
      ],
      "text/plain": [
       "        nulos_filas  target  porcentaje_filas\n",
       "0                 0       1               0.0\n",
       "666657            0       0               0.0\n",
       "666659            0       0               0.0\n",
       "666660            0       0               0.0\n",
       "666661            0       0               0.0\n",
       "...             ...     ...               ...\n",
       "333337            0       0               0.0\n",
       "333338            0       0               0.0\n",
       "333339            0       0               0.0\n",
       "333340            0       0               0.0\n",
       "999999            0       0               0.0\n",
       "\n",
       "[1000000 rows x 3 columns]"
      ]
     },
     "execution_count": 15,
     "metadata": {},
     "output_type": "execute_result"
    }
   ],
   "source": [
    "bf_null_filas\n"
   ]
  },
  {
   "cell_type": "markdown",
   "metadata": {},
   "source": [
    "# <font color = 'lightgreen'> INTERPRETACIÓN DE LOS VALORES NULOS"
   ]
  },
  {
   "cell_type": "markdown",
   "metadata": {},
   "source": [
    "Hay algunas variables del dataframe que contienen valores nulos, generalmente se identifican como -1. Las variables que contienen estos valores nulos son: \"prev_address_months_count\",\"current_address_months_count\",\"intended_balcon_amount\", \"bank_months_count\", \"session_length_in_minutes\", \"device_distinct_emails_8w\". \n",
    "\n",
    "Para la interpretación de dichos valores hemos creado las variables \"valores_nulos\", donde observaremos el número total de NAs y su porcentaje respecto de la suma total de datos de cada variable:"
   ]
  },
  {
   "cell_type": "code",
   "execution_count": 28,
   "metadata": {},
   "outputs": [
    {
     "name": "stdout",
     "output_type": "stream",
     "text": [
      "La cantidad de valores nulos en 'prev_address_months_count' es: 712920\n",
      "La cantidad de valores nulos en 'current_address_months_count' es: 4254\n",
      "La cantidad de valores nulos en ' intended_balcon_amount' es: 742523\n",
      "La cantidad de valores nulos en 'bank_months_count' es: 253635\n",
      "La cantidad de valores nulos en 'session_length_in_minutes' es: 2015\n",
      "La cantidad de valores nulos en 'device_distinct_emails ' es: 359\n"
     ]
    }
   ],
   "source": [
    "valores_nulos1 = (bf[\"prev_address_months_count\"] < 0).astype(int).sum()\n",
    "valores_nulos2 = (bf[\"current_address_months_count\"] < 0).astype(int).sum()\n",
    "valores_nulos3 = (bf[\"intended_balcon_amount\"] < 0).astype(int).sum()\n",
    "valores_nulos4 = (bf[\"bank_months_count\"] < 0).astype(int).sum()\n",
    "valores_nulos5 = (bf[\"session_length_in_minutes\"] < 0).astype(int).sum()\n",
    "valores_nulos6 = (bf[\"device_distinct_emails_8w\"] < 0).astype(int).sum()\n",
    "\n",
    "print(f\"La cantidad de valores nulos en 'prev_address_months_count' es: {valores_nulos1}\")\n",
    "print(f\"La cantidad de valores nulos en 'current_address_months_count' es: {valores_nulos2}\")\n",
    "print(f\"La cantidad de valores nulos en ' intended_balcon_amount' es: {valores_nulos3}\")\n",
    "print(f\"La cantidad de valores nulos en 'bank_months_count' es: {valores_nulos4}\")\n",
    "print(f\"La cantidad de valores nulos en 'session_length_in_minutes' es: {valores_nulos5}\")\n",
    "print(f\"La cantidad de valores nulos en 'device_distinct_emails ' es: {valores_nulos6}\")"
   ]
  },
  {
   "cell_type": "code",
   "execution_count": 29,
   "metadata": {},
   "outputs": [
    {
     "name": "stdout",
     "output_type": "stream",
     "text": [
      "Esto supone que los valores nulos en prev_address_months_count representan un  71.292 %\n",
      "Esto supone que los valores nulos en current_address_months_count representan un  0.4254 %\n",
      "Esto supone que los valores nulos en intended_balcon_amount representan un  74.2523 %\n",
      "Esto supone que los valores nulos en 'bank_months_count representan un  25.3635 %\n",
      "Esto supone que los valores nulos en session_length_in_minutes representan un  0.20149999999999998 %\n",
      "Esto supone que los valores nulos en device_distinct_emails representan un  0.0359 %\n"
     ]
    }
   ],
   "source": [
    "print(f\"Esto supone que los valores nulos en prev_address_months_count representan un \",(valores_nulos1/1000000)*100,\"%\" )\n",
    "print(f\"Esto supone que los valores nulos en current_address_months_count representan un \",(valores_nulos2/1000000)*100,\"%\" )\n",
    "print(f\"Esto supone que los valores nulos en intended_balcon_amount representan un \",(valores_nulos3/1000000)*100,\"%\" )\n",
    "print(f\"Esto supone que los valores nulos en 'bank_months_count representan un \",(valores_nulos4/1000000)*100,\"%\" )\n",
    "print(f\"Esto supone que los valores nulos en session_length_in_minutes representan un \",(valores_nulos5/1000000)*100,\"%\" )\n",
    "print(f\"Esto supone que los valores nulos en device_distinct_emails representan un \",(valores_nulos6/1000000)*100,\"%\" )"
   ]
  },
  {
   "cell_type": "markdown",
   "metadata": {},
   "source": [
    "# Tipos: Variables categoricas y numericas"
   ]
  },
  {
   "cell_type": "code",
   "execution_count": 30,
   "metadata": {},
   "outputs": [],
   "source": [
    "list_cat_vars = list(new_bf.select_dtypes(include=['category']).columns)\n"
   ]
  },
  {
   "cell_type": "markdown",
   "metadata": {},
   "source": [
    "Creamos una lista que contenga solo las variables categóricas del dataset."
   ]
  },
  {
   "cell_type": "code",
   "execution_count": 31,
   "metadata": {},
   "outputs": [
    {
     "data": {
      "text/html": [
       "<div>\n",
       "<style scoped>\n",
       "    .dataframe tbody tr th:only-of-type {\n",
       "        vertical-align: middle;\n",
       "    }\n",
       "\n",
       "    .dataframe tbody tr th {\n",
       "        vertical-align: top;\n",
       "    }\n",
       "\n",
       "    .dataframe thead th {\n",
       "        text-align: right;\n",
       "    }\n",
       "</style>\n",
       "<table border=\"1\" class=\"dataframe\">\n",
       "  <thead>\n",
       "    <tr style=\"text-align: right;\">\n",
       "      <th></th>\n",
       "      <th>fraud_bool</th>\n",
       "      <th>payment_type</th>\n",
       "      <th>employment_status</th>\n",
       "      <th>email_is_free</th>\n",
       "      <th>housing_status</th>\n",
       "      <th>phone_home_valid</th>\n",
       "      <th>phone_mobile_valid</th>\n",
       "      <th>has_other_cards</th>\n",
       "      <th>foreign_request</th>\n",
       "      <th>source</th>\n",
       "      <th>device_os</th>\n",
       "      <th>keep_alive_session</th>\n",
       "    </tr>\n",
       "  </thead>\n",
       "  <tbody>\n",
       "    <tr>\n",
       "      <th>0</th>\n",
       "      <td>1</td>\n",
       "      <td>AA</td>\n",
       "      <td>CA</td>\n",
       "      <td>0</td>\n",
       "      <td>BA</td>\n",
       "      <td>1</td>\n",
       "      <td>0</td>\n",
       "      <td>0</td>\n",
       "      <td>0</td>\n",
       "      <td>INTERNET</td>\n",
       "      <td>windows</td>\n",
       "      <td>0</td>\n",
       "    </tr>\n",
       "    <tr>\n",
       "      <th>1</th>\n",
       "      <td>1</td>\n",
       "      <td>AB</td>\n",
       "      <td>CA</td>\n",
       "      <td>1</td>\n",
       "      <td>BA</td>\n",
       "      <td>0</td>\n",
       "      <td>0</td>\n",
       "      <td>0</td>\n",
       "      <td>0</td>\n",
       "      <td>INTERNET</td>\n",
       "      <td>windows</td>\n",
       "      <td>0</td>\n",
       "    </tr>\n",
       "    <tr>\n",
       "      <th>2</th>\n",
       "      <td>1</td>\n",
       "      <td>AC</td>\n",
       "      <td>CB</td>\n",
       "      <td>1</td>\n",
       "      <td>BA</td>\n",
       "      <td>0</td>\n",
       "      <td>1</td>\n",
       "      <td>0</td>\n",
       "      <td>0</td>\n",
       "      <td>INTERNET</td>\n",
       "      <td>other</td>\n",
       "      <td>0</td>\n",
       "    </tr>\n",
       "    <tr>\n",
       "      <th>3</th>\n",
       "      <td>1</td>\n",
       "      <td>AB</td>\n",
       "      <td>CA</td>\n",
       "      <td>1</td>\n",
       "      <td>BA</td>\n",
       "      <td>0</td>\n",
       "      <td>1</td>\n",
       "      <td>1</td>\n",
       "      <td>0</td>\n",
       "      <td>INTERNET</td>\n",
       "      <td>linux</td>\n",
       "      <td>0</td>\n",
       "    </tr>\n",
       "    <tr>\n",
       "      <th>4</th>\n",
       "      <td>1</td>\n",
       "      <td>AB</td>\n",
       "      <td>CA</td>\n",
       "      <td>1</td>\n",
       "      <td>BA</td>\n",
       "      <td>1</td>\n",
       "      <td>0</td>\n",
       "      <td>0</td>\n",
       "      <td>0</td>\n",
       "      <td>INTERNET</td>\n",
       "      <td>macintosh</td>\n",
       "      <td>1</td>\n",
       "    </tr>\n",
       "  </tbody>\n",
       "</table>\n",
       "</div>"
      ],
      "text/plain": [
       "  fraud_bool payment_type employment_status email_is_free housing_status  \\\n",
       "0          1           AA                CA             0             BA   \n",
       "1          1           AB                CA             1             BA   \n",
       "2          1           AC                CB             1             BA   \n",
       "3          1           AB                CA             1             BA   \n",
       "4          1           AB                CA             1             BA   \n",
       "\n",
       "  phone_home_valid phone_mobile_valid has_other_cards foreign_request  \\\n",
       "0                1                  0               0               0   \n",
       "1                0                  0               0               0   \n",
       "2                0                  1               0               0   \n",
       "3                0                  1               1               0   \n",
       "4                1                  0               0               0   \n",
       "\n",
       "     source  device_os keep_alive_session  \n",
       "0  INTERNET    windows                  0  \n",
       "1  INTERNET    windows                  0  \n",
       "2  INTERNET      other                  0  \n",
       "3  INTERNET      linux                  0  \n",
       "4  INTERNET  macintosh                  1  "
      ]
     },
     "execution_count": 31,
     "metadata": {},
     "output_type": "execute_result"
    }
   ],
   "source": [
    "bf_filter_null[list_cat_vars] = bf_filter_null[list_cat_vars].astype(\"category\")\n",
    "bf_filter_null[list_cat_vars].head()"
   ]
  },
  {
   "cell_type": "code",
   "execution_count": 32,
   "metadata": {},
   "outputs": [
    {
     "data": {
      "text/plain": [
       "['fraud_bool',\n",
       " 'payment_type',\n",
       " 'employment_status',\n",
       " 'email_is_free',\n",
       " 'housing_status',\n",
       " 'phone_home_valid',\n",
       " 'phone_mobile_valid',\n",
       " 'has_other_cards',\n",
       " 'foreign_request',\n",
       " 'source',\n",
       " 'device_os',\n",
       " 'keep_alive_session']"
      ]
     },
     "execution_count": 32,
     "metadata": {},
     "output_type": "execute_result"
    }
   ],
   "source": [
    "list_cat_vars\n"
   ]
  },
  {
   "cell_type": "markdown",
   "metadata": {},
   "source": [
    "Observamos todas las variables que son de tipo categórica creadas en la lista (list_cat_vars)"
   ]
  },
  {
   "cell_type": "code",
   "execution_count": 33,
   "metadata": {},
   "outputs": [
    {
     "data": {
      "text/plain": [
       "other        342728\n",
       "linux        332712\n",
       "windows      263506\n",
       "macintosh     53826\n",
       "x11            7228\n",
       "Name: device_os, dtype: int64"
      ]
     },
     "execution_count": 33,
     "metadata": {},
     "output_type": "execute_result"
    }
   ],
   "source": [
    "bf_filter_null['device_os'].value_counts()\n"
   ]
  },
  {
   "cell_type": "markdown",
   "metadata": {},
   "source": [
    "Observamos la frecuencia de valores únicos dentro de \"device_os\", es decir las veces que se repite un mismo dato dentro de la variable que en este caso se divide en other, la cual tiene el mayor número de repeticiones,linux,windows,macintosh y x11"
   ]
  },
  {
   "cell_type": "code",
   "execution_count": 34,
   "metadata": {},
   "outputs": [
    {
     "data": {
      "text/plain": [
       "30    311433\n",
       "20    245855\n",
       "40    238712\n",
       "50    140353\n",
       "60     34770\n",
       "10     20987\n",
       "70      6517\n",
       "80      1297\n",
       "90        76\n",
       "Name: customer_age, dtype: int64"
      ]
     },
     "execution_count": 34,
     "metadata": {},
     "output_type": "execute_result"
    }
   ],
   "source": [
    "bf_filter_null['customer_age'].value_counts()\n"
   ]
  },
  {
   "cell_type": "markdown",
   "metadata": {},
   "source": [
    "Realizamos el mismo procedimiento que en la línea de código anterior, esta vez con la variable categórica \"customer age\""
   ]
  },
  {
   "cell_type": "code",
   "execution_count": 35,
   "metadata": {},
   "outputs": [
    {
     "data": {
      "text/plain": [
       "fraud_bool            category\n",
       "payment_type          category\n",
       "employment_status     category\n",
       "email_is_free         category\n",
       "housing_status        category\n",
       "phone_home_valid      category\n",
       "phone_mobile_valid    category\n",
       "has_other_cards       category\n",
       "foreign_request       category\n",
       "source                category\n",
       "device_os             category\n",
       "keep_alive_session    category\n",
       "dtype: object"
      ]
     },
     "execution_count": 35,
     "metadata": {},
     "output_type": "execute_result"
    }
   ],
   "source": [
    "bf_filter_null[list_cat_vars].dtypes"
   ]
  },
  {
   "cell_type": "code",
   "execution_count": 36,
   "metadata": {
    "scrolled": true
   },
   "outputs": [
    {
     "name": "stdout",
     "output_type": "stream",
     "text": [
      "551\n"
     ]
    },
    {
     "data": {
      "text/plain": [
       " 113    0.006791\n",
       " 116    0.006784\n",
       " 110    0.006774\n",
       " 115    0.006734\n",
       " 117    0.006717\n",
       " 114    0.006703\n",
       " 109    0.006676\n",
       " 105    0.006674\n",
       " 112    0.006653\n",
       " 111    0.006624\n",
       " 108    0.006618\n",
       " 107    0.006611\n",
       " 103    0.006607\n",
       " 118    0.006590\n",
       " 100    0.006559\n",
       " 106    0.006547\n",
       " 104    0.006545\n",
       " 102    0.006500\n",
       " 120    0.006488\n",
       " 101    0.006447\n",
       " 122    0.006419\n",
       " 119    0.006410\n",
       " 98     0.006402\n",
       " 121    0.006375\n",
       " 99     0.006345\n",
       " 123    0.006331\n",
       " 96     0.006291\n",
       " 97     0.006233\n",
       " 95     0.006229\n",
       " 94     0.006183\n",
       " 125    0.006090\n",
       " 124    0.006070\n",
       " 126    0.006042\n",
       " 92     0.005959\n",
       " 90     0.005958\n",
       " 91     0.005932\n",
       " 93     0.005915\n",
       " 127    0.005874\n",
       " 129    0.005871\n",
       " 88     0.005851\n",
       " 89     0.005838\n",
       " 128    0.005796\n",
       " 130    0.005767\n",
       " 87     0.005762\n",
       " 86     0.005750\n",
       " 85     0.005666\n",
       " 83     0.005653\n",
       " 84     0.005575\n",
       " 131    0.005517\n",
       " 81     0.005510\n",
       " 132    0.005498\n",
       " 82     0.005484\n",
       " 133    0.005415\n",
       " 80     0.005341\n",
       " 134    0.005276\n",
       " 78     0.005223\n",
       " 77     0.005173\n",
       " 136    0.005148\n",
       " 135    0.005145\n",
       " 79     0.005119\n",
       " 74     0.005013\n",
       " 76     0.005010\n",
       " 75     0.004956\n",
       " 137    0.004946\n",
       " 73     0.004860\n",
       " 138    0.004847\n",
       " 72     0.004839\n",
       " 141    0.004733\n",
       " 139    0.004706\n",
       " 71     0.004659\n",
       " 140    0.004626\n",
       " 67     0.004590\n",
       " 142    0.004570\n",
       " 143    0.004560\n",
       " 69     0.004552\n",
       " 70     0.004545\n",
       " 145    0.004443\n",
       " 144    0.004403\n",
       " 66     0.004370\n",
       " 68     0.004359\n",
       " 146    0.004340\n",
       " 147    0.004311\n",
       " 149    0.004218\n",
       " 65     0.004194\n",
       " 151    0.004181\n",
       " 63     0.004149\n",
       " 148    0.004141\n",
       " 150    0.004139\n",
       " 64     0.004110\n",
       " 153    0.004101\n",
       " 152    0.004101\n",
       " 154    0.004072\n",
       " 155    0.004025\n",
       " 156    0.003996\n",
       " 161    0.003971\n",
       " 172    0.003960\n",
       " 61     0.003943\n",
       " 158    0.003918\n",
       " 60     0.003904\n",
       " 169    0.003896\n",
       " 62     0.003895\n",
       " 164    0.003869\n",
       " 160    0.003861\n",
       " 157    0.003861\n",
       " 165    0.003835\n",
       " 159    0.003834\n",
       " 170    0.003823\n",
       " 162    0.003820\n",
       " 179    0.003811\n",
       " 163    0.003800\n",
       " 175    0.003798\n",
       " 167    0.003791\n",
       " 59     0.003786\n",
       " 177    0.003785\n",
       " 176    0.003771\n",
       " 166    0.003770\n",
       " 58     0.003747\n",
       " 185    0.003744\n",
       " 181    0.003736\n",
       " 168    0.003731\n",
       " 178    0.003718\n",
       " 171    0.003716\n",
       " 180    0.003688\n",
       " 186    0.003686\n",
       " 173    0.003686\n",
       " 182    0.003657\n",
       " 184    0.003654\n",
       " 174    0.003644\n",
       " 183    0.003643\n",
       " 191    0.003606\n",
       " 187    0.003606\n",
       " 57     0.003597\n",
       " 56     0.003586\n",
       " 189    0.003577\n",
       " 188    0.003568\n",
       " 192    0.003537\n",
       " 55     0.003536\n",
       " 193    0.003529\n",
       " 190    0.003482\n",
       " 194    0.003438\n",
       " 54     0.003401\n",
       " 196    0.003380\n",
       " 53     0.003360\n",
       " 200    0.003344\n",
       " 195    0.003304\n",
       " 197    0.003290\n",
       " 52     0.003279\n",
       " 50     0.003244\n",
       " 201    0.003208\n",
       " 199    0.003199\n",
       " 202    0.003185\n",
       " 49     0.003184\n",
       " 51     0.003163\n",
       " 198    0.003159\n",
       " 204    0.003147\n",
       " 203    0.003137\n",
       " 47     0.003077\n",
       " 205    0.003034\n",
       " 208    0.003031\n",
       " 206    0.003029\n",
       " 207    0.003007\n",
       " 209    0.003000\n",
       " 48     0.002985\n",
       " 210    0.002973\n",
       " 211    0.002928\n",
       " 212    0.002906\n",
       " 46     0.002886\n",
       " 213    0.002858\n",
       " 44     0.002820\n",
       " 45     0.002801\n",
       " 215    0.002788\n",
       " 43     0.002782\n",
       " 42     0.002742\n",
       " 216    0.002699\n",
       " 217    0.002679\n",
       " 41     0.002654\n",
       " 219    0.002649\n",
       " 214    0.002618\n",
       " 40     0.002602\n",
       " 218    0.002593\n",
       " 39     0.002578\n",
       " 220    0.002490\n",
       " 221    0.002478\n",
       " 38     0.002454\n",
       " 223    0.002418\n",
       " 37     0.002417\n",
       " 222    0.002386\n",
       " 36     0.002330\n",
       " 34     0.002305\n",
       " 35     0.002301\n",
       " 225    0.002294\n",
       " 224    0.002279\n",
       " 226    0.002215\n",
       " 33     0.002215\n",
       " 29     0.002195\n",
       " 227    0.002182\n",
       " 32     0.002174\n",
       " 228    0.002169\n",
       " 229    0.002161\n",
       " 230    0.002141\n",
       " 31     0.002123\n",
       " 30     0.002114\n",
       " 231    0.002000\n",
       " 28     0.001999\n",
       " 233    0.001993\n",
       " 26     0.001959\n",
       " 232    0.001947\n",
       " 235    0.001918\n",
       " 25     0.001911\n",
       " 27     0.001901\n",
       " 24     0.001867\n",
       " 237    0.001834\n",
       " 234    0.001830\n",
       " 236    0.001812\n",
       " 22     0.001780\n",
       " 238    0.001735\n",
       " 23     0.001731\n",
       " 21     0.001710\n",
       " 241    0.001707\n",
       " 239    0.001678\n",
       " 240    0.001662\n",
       " 243    0.001621\n",
       " 20     0.001585\n",
       " 242    0.001550\n",
       " 18     0.001549\n",
       " 244    0.001542\n",
       " 19     0.001527\n",
       " 245    0.001524\n",
       " 248    0.001486\n",
       " 246    0.001471\n",
       " 17     0.001463\n",
       " 247    0.001444\n",
       " 249    0.001422\n",
       " 251    0.001377\n",
       " 253    0.001377\n",
       " 250    0.001366\n",
       " 255    0.001314\n",
       " 252    0.001292\n",
       " 16     0.001289\n",
       " 15     0.001285\n",
       " 256    0.001277\n",
       " 254    0.001257\n",
       " 14     0.001242\n",
       " 257    0.001235\n",
       " 258    0.001232\n",
       " 259    0.001205\n",
       " 260    0.001202\n",
       " 261    0.001198\n",
       " 13     0.001176\n",
       " 262    0.001150\n",
       " 264    0.001129\n",
       " 265    0.001126\n",
       " 263    0.001125\n",
       " 266    0.001093\n",
       " 12     0.001092\n",
       " 10     0.001070\n",
       " 267    0.001064\n",
       " 268    0.001039\n",
       " 11     0.001038\n",
       " 269    0.001037\n",
       " 270    0.001006\n",
       " 9      0.001005\n",
       " 272    0.000985\n",
       " 274    0.000956\n",
       " 273    0.000950\n",
       " 271    0.000947\n",
       " 8      0.000905\n",
       " 275    0.000873\n",
       " 276    0.000853\n",
       " 7      0.000843\n",
       " 277    0.000837\n",
       " 278    0.000824\n",
       " 280    0.000806\n",
       " 279    0.000795\n",
       " 6      0.000787\n",
       " 281    0.000774\n",
       " 282    0.000746\n",
       " 283    0.000739\n",
       " 5      0.000718\n",
       " 3      0.000696\n",
       " 4      0.000695\n",
       " 285    0.000676\n",
       " 284    0.000651\n",
       " 286    0.000647\n",
       " 2      0.000644\n",
       " 287    0.000640\n",
       " 288    0.000620\n",
       " 290    0.000591\n",
       " 291    0.000587\n",
       " 292    0.000578\n",
       " 289    0.000555\n",
       " 1      0.000552\n",
       " 295    0.000549\n",
       " 293    0.000539\n",
       " 294    0.000534\n",
       " 296    0.000526\n",
       " 0      0.000524\n",
       " 297    0.000502\n",
       "-1      0.000488\n",
       " 298    0.000485\n",
       "-2      0.000473\n",
       " 299    0.000465\n",
       " 302    0.000464\n",
       " 300    0.000456\n",
       "-3      0.000440\n",
       " 301    0.000431\n",
       " 303    0.000424\n",
       "-4      0.000421\n",
       " 304    0.000392\n",
       " 307    0.000377\n",
       " 305    0.000369\n",
       " 310    0.000349\n",
       "-5      0.000349\n",
       " 311    0.000348\n",
       " 306    0.000339\n",
       " 308    0.000339\n",
       " 309    0.000330\n",
       "-6      0.000327\n",
       " 312    0.000310\n",
       "-8      0.000308\n",
       " 317    0.000303\n",
       " 314    0.000301\n",
       " 315    0.000297\n",
       "-7      0.000295\n",
       " 316    0.000294\n",
       " 313    0.000293\n",
       " 321    0.000272\n",
       "-9      0.000268\n",
       " 318    0.000267\n",
       " 325    0.000264\n",
       " 319    0.000261\n",
       " 322    0.000256\n",
       "-11     0.000252\n",
       "-10     0.000251\n",
       " 320    0.000246\n",
       " 323    0.000235\n",
       "-12     0.000231\n",
       "-13     0.000225\n",
       " 326    0.000213\n",
       "-15     0.000206\n",
       " 327    0.000202\n",
       " 324    0.000202\n",
       " 331    0.000196\n",
       "-23     0.000194\n",
       "-17     0.000193\n",
       " 330    0.000191\n",
       "-19     0.000189\n",
       "-14     0.000187\n",
       " 329    0.000182\n",
       "-21     0.000179\n",
       "-18     0.000179\n",
       "-24     0.000173\n",
       "-26     0.000172\n",
       "-22     0.000170\n",
       "-36     0.000169\n",
       " 332    0.000168\n",
       "-20     0.000168\n",
       " 337    0.000165\n",
       " 333    0.000164\n",
       "-16     0.000164\n",
       " 328    0.000162\n",
       "-30     0.000161\n",
       "-32     0.000160\n",
       "-40     0.000160\n",
       "-28     0.000150\n",
       "-31     0.000148\n",
       "-45     0.000148\n",
       " 334    0.000145\n",
       "-27     0.000143\n",
       "-34     0.000143\n",
       " 335    0.000142\n",
       "-35     0.000141\n",
       " 336    0.000140\n",
       "-29     0.000140\n",
       "-50     0.000138\n",
       "-33     0.000137\n",
       "-51     0.000136\n",
       " 338    0.000136\n",
       "-25     0.000136\n",
       "-39     0.000135\n",
       "-43     0.000133\n",
       "-37     0.000133\n",
       "-49     0.000132\n",
       " 340    0.000129\n",
       "-47     0.000126\n",
       "-42     0.000126\n",
       "-52     0.000126\n",
       "-44     0.000125\n",
       "-41     0.000122\n",
       "-46     0.000120\n",
       "-48     0.000118\n",
       " 339    0.000116\n",
       " 343    0.000115\n",
       " 344    0.000111\n",
       "-57     0.000111\n",
       "-38     0.000111\n",
       "-53     0.000109\n",
       "-62     0.000108\n",
       "-58     0.000105\n",
       " 341    0.000103\n",
       "-59     0.000098\n",
       "-56     0.000097\n",
       "-68     0.000097\n",
       "-61     0.000096\n",
       "-54     0.000096\n",
       "-55     0.000095\n",
       "-66     0.000092\n",
       "-65     0.000091\n",
       "-72     0.000090\n",
       "-60     0.000087\n",
       "-70     0.000086\n",
       " 345    0.000083\n",
       "-71     0.000083\n",
       " 342    0.000082\n",
       " 346    0.000082\n",
       "-74     0.000081\n",
       "-63     0.000081\n",
       "-81     0.000080\n",
       " 348    0.000079\n",
       "-82     0.000078\n",
       "-77     0.000078\n",
       "-73     0.000076\n",
       "-69     0.000076\n",
       "-78     0.000075\n",
       " 347    0.000075\n",
       "-67     0.000073\n",
       " 349    0.000072\n",
       "-79     0.000072\n",
       "-76     0.000070\n",
       "-64     0.000069\n",
       " 351    0.000069\n",
       "-75     0.000069\n",
       "-80     0.000068\n",
       "-86     0.000066\n",
       "-83     0.000062\n",
       " 353    0.000060\n",
       " 350    0.000059\n",
       "-90     0.000058\n",
       " 352    0.000057\n",
       "-87     0.000054\n",
       "-85     0.000054\n",
       "-84     0.000053\n",
       " 355    0.000052\n",
       "-93     0.000051\n",
       "-95     0.000050\n",
       "-97     0.000050\n",
       "-91     0.000049\n",
       "-88     0.000048\n",
       "-94     0.000046\n",
       "-101    0.000046\n",
       "-102    0.000046\n",
       "-89     0.000046\n",
       " 354    0.000045\n",
       "-99     0.000042\n",
       "-92     0.000038\n",
       " 360    0.000038\n",
       "-103    0.000038\n",
       "-111    0.000036\n",
       " 356    0.000036\n",
       " 359    0.000033\n",
       " 357    0.000032\n",
       " 358    0.000032\n",
       "-100    0.000031\n",
       "-96     0.000031\n",
       "-104    0.000031\n",
       "-98     0.000030\n",
       "-114    0.000028\n",
       "-106    0.000028\n",
       "-107    0.000027\n",
       "-110    0.000026\n",
       "-105    0.000025\n",
       "-122    0.000024\n",
       " 365    0.000024\n",
       "-117    0.000024\n",
       " 361    0.000024\n",
       "-118    0.000021\n",
       " 362    0.000021\n",
       "-115    0.000019\n",
       " 364    0.000019\n",
       "-116    0.000019\n",
       "-109    0.000019\n",
       "-119    0.000019\n",
       "-112    0.000016\n",
       " 363    0.000016\n",
       "-120    0.000016\n",
       "-132    0.000016\n",
       "-123    0.000015\n",
       "-124    0.000015\n",
       "-125    0.000015\n",
       "-108    0.000015\n",
       "-121    0.000013\n",
       " 369    0.000013\n",
       " 367    0.000013\n",
       "-113    0.000013\n",
       "-127    0.000012\n",
       "-130    0.000012\n",
       " 366    0.000012\n",
       " 374    0.000012\n",
       " 368    0.000011\n",
       "-139    0.000011\n",
       "-129    0.000010\n",
       "-126    0.000010\n",
       "-131    0.000009\n",
       "-149    0.000009\n",
       "-137    0.000009\n",
       "-134    0.000008\n",
       "-133    0.000007\n",
       " 373    0.000007\n",
       " 370    0.000007\n",
       "-136    0.000007\n",
       "-144    0.000007\n",
       " 377    0.000006\n",
       " 371    0.000006\n",
       "-128    0.000006\n",
       " 376    0.000005\n",
       "-135    0.000005\n",
       " 378    0.000005\n",
       "-138    0.000004\n",
       "-143    0.000004\n",
       "-145    0.000004\n",
       " 372    0.000004\n",
       "-164    0.000003\n",
       " 375    0.000003\n",
       "-141    0.000003\n",
       "-140    0.000003\n",
       "-147    0.000003\n",
       "-156    0.000003\n",
       "-154    0.000003\n",
       " 385    0.000002\n",
       " 379    0.000002\n",
       "-150    0.000002\n",
       " 380    0.000002\n",
       "-148    0.000002\n",
       "-146    0.000002\n",
       "-158    0.000001\n",
       "-155    0.000001\n",
       " 381    0.000001\n",
       " 383    0.000001\n",
       " 389    0.000001\n",
       " 386    0.000001\n",
       " 387    0.000001\n",
       "-170    0.000001\n",
       "-159    0.000001\n",
       "-169    0.000001\n",
       "-166    0.000001\n",
       "-153    0.000001\n",
       "-165    0.000001\n",
       "-152    0.000001\n",
       "-157    0.000001\n",
       "-168    0.000001\n",
       "-167    0.000001\n",
       "Name: credit_risk_score, dtype: float64"
      ]
     },
     "execution_count": 36,
     "metadata": {},
     "output_type": "execute_result"
    }
   ],
   "source": [
    "print(bf_filter_null[\"credit_risk_score\"].value_counts().count())\n",
    "bf_filter_null[\"credit_risk_score\"].value_counts(normalize=True)"
   ]
  },
  {
   "cell_type": "markdown",
   "metadata": {},
   "source": [
    "En esta línea de código primeramente imprimimos el total de valores únicos dentro de \"credit_risk_score\", en este caso son 551 ,más adelante en la columna izquierda aparecen cada uno de los 551 valores únicos acompañado en la columna derecha con la proporción de cada valor, es decir el valor 113 dentro de credit_risk_score tiene una proporción de 0.6%."
   ]
  },
  {
   "cell_type": "markdown",
   "metadata": {},
   "source": [
    "## Preprocesamiento inicial de algunas variables"
   ]
  },
  {
   "cell_type": "code",
   "execution_count": 37,
   "metadata": {},
   "outputs": [
    {
     "data": {
      "text/html": [
       "<div>\n",
       "<style scoped>\n",
       "    .dataframe tbody tr th:only-of-type {\n",
       "        vertical-align: middle;\n",
       "    }\n",
       "\n",
       "    .dataframe tbody tr th {\n",
       "        vertical-align: top;\n",
       "    }\n",
       "\n",
       "    .dataframe thead th {\n",
       "        text-align: right;\n",
       "    }\n",
       "</style>\n",
       "<table border=\"1\" class=\"dataframe\">\n",
       "  <thead>\n",
       "    <tr style=\"text-align: right;\">\n",
       "      <th></th>\n",
       "      <th>fraud_bool</th>\n",
       "      <th>income</th>\n",
       "      <th>device_fraud_count</th>\n",
       "      <th>device_distinct_emails_8w</th>\n",
       "      <th>keep_alive_session</th>\n",
       "      <th>device_os</th>\n",
       "      <th>session_length_in_minutes</th>\n",
       "      <th>source</th>\n",
       "      <th>foreign_request</th>\n",
       "      <th>proposed_credit_limit</th>\n",
       "      <th>has_other_cards</th>\n",
       "      <th>bank_months_count</th>\n",
       "      <th>phone_mobile_valid</th>\n",
       "      <th>phone_home_valid</th>\n",
       "      <th>housing_status</th>\n",
       "      <th>email_is_free</th>\n",
       "      <th>credit_risk_score</th>\n",
       "      <th>employment_status</th>\n",
       "      <th>date_of_birth_distinct_emails_4w</th>\n",
       "      <th>bank_branch_count_8w</th>\n",
       "      <th>velocity_4w</th>\n",
       "      <th>velocity_24h</th>\n",
       "      <th>velocity_6h</th>\n",
       "      <th>zip_count_4w</th>\n",
       "      <th>payment_type</th>\n",
       "      <th>intended_balcon_amount</th>\n",
       "      <th>days_since_request</th>\n",
       "      <th>customer_age</th>\n",
       "      <th>current_address_months_count</th>\n",
       "      <th>prev_address_months_count</th>\n",
       "      <th>name_email_similarity</th>\n",
       "      <th>month</th>\n",
       "    </tr>\n",
       "  </thead>\n",
       "  <tbody>\n",
       "    <tr>\n",
       "      <th>0</th>\n",
       "      <td>1</td>\n",
       "      <td>0.9</td>\n",
       "      <td>0</td>\n",
       "      <td>1</td>\n",
       "      <td>0</td>\n",
       "      <td>windows</td>\n",
       "      <td>3.888115</td>\n",
       "      <td>INTERNET</td>\n",
       "      <td>0</td>\n",
       "      <td>500.0</td>\n",
       "      <td>0</td>\n",
       "      <td>24</td>\n",
       "      <td>0</td>\n",
       "      <td>1</td>\n",
       "      <td>BA</td>\n",
       "      <td>0</td>\n",
       "      <td>185</td>\n",
       "      <td>CA</td>\n",
       "      <td>6</td>\n",
       "      <td>1</td>\n",
       "      <td>3863.647740</td>\n",
       "      <td>3134.319630</td>\n",
       "      <td>10650.765523</td>\n",
       "      <td>769</td>\n",
       "      <td>AA</td>\n",
       "      <td>-1.331345</td>\n",
       "      <td>0.020925</td>\n",
       "      <td>50</td>\n",
       "      <td>88</td>\n",
       "      <td>-1</td>\n",
       "      <td>0.166828</td>\n",
       "      <td>7</td>\n",
       "    </tr>\n",
       "    <tr>\n",
       "      <th>1</th>\n",
       "      <td>1</td>\n",
       "      <td>0.9</td>\n",
       "      <td>0</td>\n",
       "      <td>1</td>\n",
       "      <td>0</td>\n",
       "      <td>windows</td>\n",
       "      <td>31.798819</td>\n",
       "      <td>INTERNET</td>\n",
       "      <td>0</td>\n",
       "      <td>1500.0</td>\n",
       "      <td>0</td>\n",
       "      <td>15</td>\n",
       "      <td>0</td>\n",
       "      <td>0</td>\n",
       "      <td>BA</td>\n",
       "      <td>1</td>\n",
       "      <td>259</td>\n",
       "      <td>CA</td>\n",
       "      <td>3</td>\n",
       "      <td>718</td>\n",
       "      <td>3124.298166</td>\n",
       "      <td>2670.918292</td>\n",
       "      <td>534.047319</td>\n",
       "      <td>366</td>\n",
       "      <td>AB</td>\n",
       "      <td>-0.816224</td>\n",
       "      <td>0.005418</td>\n",
       "      <td>50</td>\n",
       "      <td>144</td>\n",
       "      <td>-1</td>\n",
       "      <td>0.296286</td>\n",
       "      <td>7</td>\n",
       "    </tr>\n",
       "    <tr>\n",
       "      <th>2</th>\n",
       "      <td>1</td>\n",
       "      <td>0.9</td>\n",
       "      <td>0</td>\n",
       "      <td>1</td>\n",
       "      <td>0</td>\n",
       "      <td>other</td>\n",
       "      <td>4.728705</td>\n",
       "      <td>INTERNET</td>\n",
       "      <td>0</td>\n",
       "      <td>200.0</td>\n",
       "      <td>0</td>\n",
       "      <td>-1</td>\n",
       "      <td>1</td>\n",
       "      <td>0</td>\n",
       "      <td>BA</td>\n",
       "      <td>1</td>\n",
       "      <td>177</td>\n",
       "      <td>CB</td>\n",
       "      <td>14</td>\n",
       "      <td>1</td>\n",
       "      <td>3159.590679</td>\n",
       "      <td>2893.621498</td>\n",
       "      <td>4048.534263</td>\n",
       "      <td>870</td>\n",
       "      <td>AC</td>\n",
       "      <td>-0.755728</td>\n",
       "      <td>3.108549</td>\n",
       "      <td>40</td>\n",
       "      <td>132</td>\n",
       "      <td>-1</td>\n",
       "      <td>0.044985</td>\n",
       "      <td>7</td>\n",
       "    </tr>\n",
       "    <tr>\n",
       "      <th>3</th>\n",
       "      <td>1</td>\n",
       "      <td>0.9</td>\n",
       "      <td>0</td>\n",
       "      <td>1</td>\n",
       "      <td>0</td>\n",
       "      <td>linux</td>\n",
       "      <td>2.047904</td>\n",
       "      <td>INTERNET</td>\n",
       "      <td>0</td>\n",
       "      <td>200.0</td>\n",
       "      <td>1</td>\n",
       "      <td>31</td>\n",
       "      <td>1</td>\n",
       "      <td>0</td>\n",
       "      <td>BA</td>\n",
       "      <td>1</td>\n",
       "      <td>110</td>\n",
       "      <td>CA</td>\n",
       "      <td>6</td>\n",
       "      <td>1921</td>\n",
       "      <td>3022.261812</td>\n",
       "      <td>4054.908412</td>\n",
       "      <td>3457.064063</td>\n",
       "      <td>810</td>\n",
       "      <td>AB</td>\n",
       "      <td>-1.205124</td>\n",
       "      <td>0.019079</td>\n",
       "      <td>50</td>\n",
       "      <td>22</td>\n",
       "      <td>-1</td>\n",
       "      <td>0.159511</td>\n",
       "      <td>7</td>\n",
       "    </tr>\n",
       "    <tr>\n",
       "      <th>4</th>\n",
       "      <td>1</td>\n",
       "      <td>0.9</td>\n",
       "      <td>0</td>\n",
       "      <td>1</td>\n",
       "      <td>1</td>\n",
       "      <td>macintosh</td>\n",
       "      <td>3.775225</td>\n",
       "      <td>INTERNET</td>\n",
       "      <td>0</td>\n",
       "      <td>1500.0</td>\n",
       "      <td>0</td>\n",
       "      <td>31</td>\n",
       "      <td>0</td>\n",
       "      <td>1</td>\n",
       "      <td>BA</td>\n",
       "      <td>1</td>\n",
       "      <td>295</td>\n",
       "      <td>CA</td>\n",
       "      <td>2</td>\n",
       "      <td>1990</td>\n",
       "      <td>3087.670952</td>\n",
       "      <td>2728.237159</td>\n",
       "      <td>5020.341679</td>\n",
       "      <td>890</td>\n",
       "      <td>AB</td>\n",
       "      <td>-0.773276</td>\n",
       "      <td>0.004441</td>\n",
       "      <td>50</td>\n",
       "      <td>218</td>\n",
       "      <td>-1</td>\n",
       "      <td>0.596414</td>\n",
       "      <td>7</td>\n",
       "    </tr>\n",
       "  </tbody>\n",
       "</table>\n",
       "</div>"
      ],
      "text/plain": [
       "  fraud_bool  income  device_fraud_count  device_distinct_emails_8w  \\\n",
       "0          1     0.9                   0                          1   \n",
       "1          1     0.9                   0                          1   \n",
       "2          1     0.9                   0                          1   \n",
       "3          1     0.9                   0                          1   \n",
       "4          1     0.9                   0                          1   \n",
       "\n",
       "  keep_alive_session  device_os  session_length_in_minutes    source  \\\n",
       "0                  0    windows                   3.888115  INTERNET   \n",
       "1                  0    windows                  31.798819  INTERNET   \n",
       "2                  0      other                   4.728705  INTERNET   \n",
       "3                  0      linux                   2.047904  INTERNET   \n",
       "4                  1  macintosh                   3.775225  INTERNET   \n",
       "\n",
       "  foreign_request  proposed_credit_limit has_other_cards  bank_months_count  \\\n",
       "0               0                  500.0               0                 24   \n",
       "1               0                 1500.0               0                 15   \n",
       "2               0                  200.0               0                 -1   \n",
       "3               0                  200.0               1                 31   \n",
       "4               0                 1500.0               0                 31   \n",
       "\n",
       "  phone_mobile_valid phone_home_valid housing_status email_is_free  \\\n",
       "0                  0                1             BA             0   \n",
       "1                  0                0             BA             1   \n",
       "2                  1                0             BA             1   \n",
       "3                  1                0             BA             1   \n",
       "4                  0                1             BA             1   \n",
       "\n",
       "   credit_risk_score employment_status  date_of_birth_distinct_emails_4w  \\\n",
       "0                185                CA                                 6   \n",
       "1                259                CA                                 3   \n",
       "2                177                CB                                14   \n",
       "3                110                CA                                 6   \n",
       "4                295                CA                                 2   \n",
       "\n",
       "   bank_branch_count_8w  velocity_4w  velocity_24h   velocity_6h  \\\n",
       "0                     1  3863.647740   3134.319630  10650.765523   \n",
       "1                   718  3124.298166   2670.918292    534.047319   \n",
       "2                     1  3159.590679   2893.621498   4048.534263   \n",
       "3                  1921  3022.261812   4054.908412   3457.064063   \n",
       "4                  1990  3087.670952   2728.237159   5020.341679   \n",
       "\n",
       "   zip_count_4w payment_type  intended_balcon_amount  days_since_request  \\\n",
       "0           769           AA               -1.331345            0.020925   \n",
       "1           366           AB               -0.816224            0.005418   \n",
       "2           870           AC               -0.755728            3.108549   \n",
       "3           810           AB               -1.205124            0.019079   \n",
       "4           890           AB               -0.773276            0.004441   \n",
       "\n",
       "   customer_age  current_address_months_count  prev_address_months_count  \\\n",
       "0            50                            88                         -1   \n",
       "1            50                           144                         -1   \n",
       "2            40                           132                         -1   \n",
       "3            50                            22                         -1   \n",
       "4            50                           218                         -1   \n",
       "\n",
       "   name_email_similarity  month  \n",
       "0               0.166828      7  \n",
       "1               0.296286      7  \n",
       "2               0.044985      7  \n",
       "3               0.159511      7  \n",
       "4               0.596414      7  "
      ]
     },
     "execution_count": 37,
     "metadata": {},
     "output_type": "execute_result"
    }
   ],
   "source": [
    "bf_filter_null.head()\n"
   ]
  },
  {
   "cell_type": "code",
   "execution_count": 38,
   "metadata": {},
   "outputs": [
    {
     "data": {
      "text/plain": [
       "(1000000, 32)"
      ]
     },
     "execution_count": 38,
     "metadata": {},
     "output_type": "execute_result"
    }
   ],
   "source": [
    "bf_filter_null.shape\n"
   ]
  },
  {
   "cell_type": "markdown",
   "metadata": {},
   "source": [
    "En este caso, no ha variado nada el dataframe original del final, ya que no hay valores NAs (hay valores missings pero cada variable tiene un valor diferente), por lo que en el segundo notebook hemos utilizado el dataset 'Base.csv' sin tocar nada. Tampoco hemos ejecutado esta última línea de código ya que vemos irrelevante usar este dataframe o el otro."
   ]
  },
  {
   "cell_type": "code",
   "execution_count": 39,
   "metadata": {},
   "outputs": [],
   "source": [
    "#bf_filter_null.drop(\"earliest_cr_line\",axis=1).to_csv(\"./data_preprocessing/pd_data_initial_preprocessing.csv\")"
   ]
  },
  {
   "cell_type": "markdown",
   "metadata": {},
   "source": [
    "En el segundo notebook cambiaremos ciertas variables de formato para poder continuar con el proyecto."
   ]
  },
  {
   "cell_type": "markdown",
   "metadata": {},
   "source": [
    "# <font color = 'lightgreen'> CONCLUSIÓN"
   ]
  },
  {
   "cell_type": "markdown",
   "metadata": {},
   "source": [
    "Como conclusión de esta parte del trabajo hemos tratado todas las variables, definiendo y diferenciando tanto las númericas como categóricas y flotantes, hemos identificado la cantidad de variables nulas donde por ejemplo la variable prev_address_months_count tiene más de un 70% de valores nulos. Al ser los valores nulos valores negativos, solo los identificamos y no procedemos a eliminarlos, aun así tratamos los valores nulos donde observamos que en este caso en el csv base no se encuentra ninguno. Además de esto creamos la lista de variables categóricas para tratarlas."
   ]
  }
 ],
 "metadata": {
  "kernelspec": {
   "display_name": "Python 3 (ipykernel)",
   "language": "python",
   "name": "python3"
  },
  "language_info": {
   "codemirror_mode": {
    "name": "ipython",
    "version": 3
   },
   "file_extension": ".py",
   "mimetype": "text/x-python",
   "name": "python",
   "nbconvert_exporter": "python",
   "pygments_lexer": "ipython3",
   "version": "3.9.18"
  }
 },
 "nbformat": 4,
 "nbformat_minor": 2
}
